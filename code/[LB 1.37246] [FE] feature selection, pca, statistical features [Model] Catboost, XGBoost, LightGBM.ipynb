{
 "cells": [
  {
   "cell_type": "markdown",
   "metadata": {
    "collapsed": true
   },
   "source": [
    "### Result\n",
    "- Private LB : 1.37246\n",
    "- Rank : 2205 (Top 49%)\n",
    "\n",
    "| model | train RMSLE | valid RMSLE | Public LB | Private LB | Rank |\n",
    "| -- | :-: | :-: | :-: | :-: | :-: |\n",
    "| LightGBM |1.01657 | 1.34053 | 1.42723 | 1.38412 |\n",
    "| XGBoost |  0.82379 | 1.34365 | 1.43763 | 1.41386 |\n",
    "| CatBoost | 1.33138 | 1.38511 | 1.42232 | **1.37246** |2205 (49%)\n",
    "| Simple Average | 1.03638 | 1.33945| **1.41484** | 1.37273 | "
   ]
  },
  {
   "cell_type": "markdown",
   "metadata": {},
   "source": [
    "## Experiment 01\n",
    "### Feature Engineering\n",
    "- remove single-valued columns\n",
    "- select top 1000 features with RandomForest model's feature importance\n",
    "- add PCA (n=10) feature\n",
    "- add statistical features\n",
    "\n",
    "### Validation Scheme\n",
    "- random 8:2 split\n",
    "\n",
    "### Model\n",
    "- LightGBM\n",
    "- XGBoost\n",
    "- CatBoost\n",
    "\n",
    "### Ensemble\n",
    "- Simple Average"
   ]
  },
  {
   "cell_type": "code",
   "execution_count": null,
   "metadata": {
    "collapsed": true
   },
   "outputs": [],
   "source": []
  },
  {
   "cell_type": "code",
   "execution_count": 1,
   "metadata": {
    "collapsed": true
   },
   "outputs": [],
   "source": [
    "import numpy as np\n",
    "import pandas as pd\n",
    "from tools import *\n",
    "from sklearn.model_selection import KFold, cross_val_score, train_test_split\n",
    "from sklearn.ensemble import RandomForestRegressor\n",
    "from sklearn.decomposition import PCA\n",
    "\n",
    "import matplotlib\n",
    "%matplotlib inline\n",
    "\n",
    "import lightgbm as lgb\n",
    "import xgboost as xgb\n",
    "import catboost as cat"
   ]
  },
  {
   "cell_type": "code",
   "execution_count": 2,
   "metadata": {
    "collapsed": true
   },
   "outputs": [],
   "source": [
    "comp_name = 'santander-value-prediction-challenge'\n",
    "train_path = '../data/train.csv'\n",
    "test_path = '../data/test.csv'"
   ]
  },
  {
   "cell_type": "code",
   "execution_count": 3,
   "metadata": {
    "collapsed": true
   },
   "outputs": [],
   "source": [
    "# load data\n",
    "trn = pd.read_csv(train_path)\n",
    "tst = pd.read_csv(test_path)"
   ]
  },
  {
   "cell_type": "code",
   "execution_count": 4,
   "metadata": {
    "collapsed": true
   },
   "outputs": [],
   "source": [
    "trn_id = trn.ID\n",
    "y = trn.target\n",
    "tst_id = tst.ID"
   ]
  },
  {
   "cell_type": "code",
   "execution_count": 5,
   "metadata": {
    "collapsed": true
   },
   "outputs": [],
   "source": [
    "trn.drop(['ID', 'target'], axis=1, inplace=True)\n",
    "tst.drop(['ID'], axis=1, inplace=True)"
   ]
  },
  {
   "cell_type": "code",
   "execution_count": null,
   "metadata": {
    "collapsed": true
   },
   "outputs": [],
   "source": []
  },
  {
   "cell_type": "markdown",
   "metadata": {},
   "source": [
    "## Feature Engineering"
   ]
  },
  {
   "cell_type": "code",
   "execution_count": 6,
   "metadata": {
    "collapsed": true
   },
   "outputs": [],
   "source": [
    "# remove sinlge-valued columns\n",
    "single_valued_cols = trn.columns[trn.nunique() == 1].tolist()\n",
    "\n",
    "trn.drop(single_valued_cols, axis=1, inplace=True)\n",
    "tst.drop(single_valued_cols, axis=1, inplace=True)"
   ]
  },
  {
   "cell_type": "code",
   "execution_count": 7,
   "metadata": {},
   "outputs": [
    {
     "data": {
      "text/plain": [
       "((4459, 4735), (49342, 4735))"
      ]
     },
     "execution_count": 7,
     "metadata": {},
     "output_type": "execute_result"
    }
   ],
   "source": [
    "trn.shape, tst.shape"
   ]
  },
  {
   "cell_type": "markdown",
   "metadata": {
    "collapsed": true
   },
   "source": []
  },
  {
   "cell_type": "code",
   "execution_count": 8,
   "metadata": {},
   "outputs": [
    {
     "name": "stdout",
     "output_type": "stream",
     "text": [
      "# trn loss : 1.59926114702\n",
      "# val loss : 1.87004084113\n",
      "# trn R2 : 0.625764458839\n",
      "# val R2 : 0.353736481115\n",
      "# OOB_score : 0.211184092716\n"
     ]
    }
   ],
   "source": [
    "# fit RandomForest model for feature selection (top 1000)\n",
    "x_trn, x_val, y_trn, y_val = train_test_split(trn, y, test_size=0.2, random_state=2018)\n",
    "model = RandomForestRegressor(n_estimators=30, oob_score=True, \n",
    "                              max_depth=50, min_samples_leaf=2, max_features='sqrt',\n",
    "                              random_state=2018, n_jobs=-1)\n",
    "model.fit(x_trn, y_trn)\n",
    "evaluate(model, x_trn, y_trn, x_val, y_val, rmsle)"
   ]
  },
  {
   "cell_type": "code",
   "execution_count": 9,
   "metadata": {},
   "outputs": [
    {
     "data": {
      "text/html": [
       "<div>\n",
       "<style scoped>\n",
       "    .dataframe tbody tr th:only-of-type {\n",
       "        vertical-align: middle;\n",
       "    }\n",
       "\n",
       "    .dataframe tbody tr th {\n",
       "        vertical-align: top;\n",
       "    }\n",
       "\n",
       "    .dataframe thead th {\n",
       "        text-align: right;\n",
       "    }\n",
       "</style>\n",
       "<table border=\"1\" class=\"dataframe\">\n",
       "  <thead>\n",
       "    <tr style=\"text-align: right;\">\n",
       "      <th></th>\n",
       "      <th>col</th>\n",
       "      <th>imp</th>\n",
       "    </tr>\n",
       "  </thead>\n",
       "  <tbody>\n",
       "    <tr>\n",
       "      <th>4135</th>\n",
       "      <td>f190486d6</td>\n",
       "      <td>0.019924</td>\n",
       "    </tr>\n",
       "    <tr>\n",
       "      <th>3576</th>\n",
       "      <td>58232a6fb</td>\n",
       "      <td>0.017585</td>\n",
       "    </tr>\n",
       "    <tr>\n",
       "      <th>8</th>\n",
       "      <td>20aa07010</td>\n",
       "      <td>0.014248</td>\n",
       "    </tr>\n",
       "    <tr>\n",
       "      <th>3727</th>\n",
       "      <td>d6bb78916</td>\n",
       "      <td>0.008766</td>\n",
       "    </tr>\n",
       "    <tr>\n",
       "      <th>4025</th>\n",
       "      <td>15ace8c9f</td>\n",
       "      <td>0.008340</td>\n",
       "    </tr>\n",
       "    <tr>\n",
       "      <th>2378</th>\n",
       "      <td>58e2e02e6</td>\n",
       "      <td>0.008323</td>\n",
       "    </tr>\n",
       "    <tr>\n",
       "      <th>1008</th>\n",
       "      <td>1c71183bb</td>\n",
       "      <td>0.008034</td>\n",
       "    </tr>\n",
       "    <tr>\n",
       "      <th>627</th>\n",
       "      <td>fb49e4212</td>\n",
       "      <td>0.006798</td>\n",
       "    </tr>\n",
       "    <tr>\n",
       "      <th>3470</th>\n",
       "      <td>eeb9cd3aa</td>\n",
       "      <td>0.006424</td>\n",
       "    </tr>\n",
       "    <tr>\n",
       "      <th>4190</th>\n",
       "      <td>f74e8f13d</td>\n",
       "      <td>0.006223</td>\n",
       "    </tr>\n",
       "  </tbody>\n",
       "</table>\n",
       "</div>"
      ],
      "text/plain": [
       "            col       imp\n",
       "4135  f190486d6  0.019924\n",
       "3576  58232a6fb  0.017585\n",
       "8     20aa07010  0.014248\n",
       "3727  d6bb78916  0.008766\n",
       "4025  15ace8c9f  0.008340\n",
       "2378  58e2e02e6  0.008323\n",
       "1008  1c71183bb  0.008034\n",
       "627   fb49e4212  0.006798\n",
       "3470  eeb9cd3aa  0.006424\n",
       "4190  f74e8f13d  0.006223"
      ]
     },
     "execution_count": 9,
     "metadata": {},
     "output_type": "execute_result"
    }
   ],
   "source": [
    "# show important columns\n",
    "feature_imp = pd.DataFrame({'col': x_trn.columns.tolist(),\n",
    "                            'imp': model.feature_importances_})\n",
    "feature_imp.sort_values(by='imp', ascending=False, inplace=True)\n",
    "feature_imp.head(10)"
   ]
  },
  {
   "cell_type": "code",
   "execution_count": 10,
   "metadata": {},
   "outputs": [
    {
     "data": {
      "text/plain": [
       "<matplotlib.axes._subplots.AxesSubplot at 0x78fcf50>"
      ]
     },
     "execution_count": 10,
     "metadata": {},
     "output_type": "execute_result"
    },
    {
     "data": {
      "image/png": "[encoded data removed]",
      "text/plain": [
       "<matplotlib.figure.Figure at 0x78fc210>"
      ]
     },
     "metadata": {},
     "output_type": "display_data"
    }
   ],
   "source": [
    "feature_imp[feature_imp.imp > 0].head(20).plot.barh('col', 'imp')"
   ]
  },
  {
   "cell_type": "code",
   "execution_count": 11,
   "metadata": {
    "collapsed": true
   },
   "outputs": [],
   "source": [
    "# choose top 1000 features\n",
    "num_features = 1000\n",
    "keep_cols = feature_imp[feature_imp.imp > 0.0001][:num_features].col.values\n",
    "\n",
    "trn = trn[keep_cols]\n",
    "tst = tst[keep_cols]"
   ]
  },
  {
   "cell_type": "code",
   "execution_count": 12,
   "metadata": {},
   "outputs": [
    {
     "data": {
      "text/plain": [
       "((4459, 1000), (49342, 1000))"
      ]
     },
     "execution_count": 12,
     "metadata": {},
     "output_type": "execute_result"
    }
   ],
   "source": [
    "trn.shape, tst.shape"
   ]
  },
  {
   "cell_type": "code",
   "execution_count": null,
   "metadata": {
    "collapsed": true
   },
   "outputs": [],
   "source": []
  },
  {
   "cell_type": "code",
   "execution_count": 13,
   "metadata": {},
   "outputs": [
    {
     "name": "stdout",
     "output_type": "stream",
     "text": [
      "# trn loss : 1.51868626181\n",
      "# val loss : 1.83925138126\n",
      "# trn R2 : 0.675168397713\n",
      "# val R2 : 0.365649265696\n",
      "# OOB_score : 0.226808645078\n"
     ]
    }
   ],
   "source": [
    "# re-train RandomForest to check how feature importance has changed\n",
    "x_trn, x_val, y_trn, y_val = train_test_split(trn, y, test_size=0.2, random_state=2018)\n",
    "model = RandomForestRegressor(n_estimators=30, oob_score=True, \n",
    "                              max_depth=50, min_samples_leaf=2, max_features='sqrt',\n",
    "                              random_state=2018, n_jobs=-1)\n",
    "model.fit(x_trn, y_trn)\n",
    "evaluate(model, x_trn, y_trn, x_val, y_val, rmsle)"
   ]
  },
  {
   "cell_type": "code",
   "execution_count": 14,
   "metadata": {},
   "outputs": [
    {
     "data": {
      "text/html": [
       "<div>\n",
       "<style scoped>\n",
       "    .dataframe tbody tr th:only-of-type {\n",
       "        vertical-align: middle;\n",
       "    }\n",
       "\n",
       "    .dataframe tbody tr th {\n",
       "        vertical-align: top;\n",
       "    }\n",
       "\n",
       "    .dataframe thead th {\n",
       "        text-align: right;\n",
       "    }\n",
       "</style>\n",
       "<table border=\"1\" class=\"dataframe\">\n",
       "  <thead>\n",
       "    <tr style=\"text-align: right;\">\n",
       "      <th></th>\n",
       "      <th>col</th>\n",
       "      <th>imp</th>\n",
       "    </tr>\n",
       "  </thead>\n",
       "  <tbody>\n",
       "    <tr>\n",
       "      <th>0</th>\n",
       "      <td>f190486d6</td>\n",
       "      <td>0.020762</td>\n",
       "    </tr>\n",
       "    <tr>\n",
       "      <th>7</th>\n",
       "      <td>fb49e4212</td>\n",
       "      <td>0.013331</td>\n",
       "    </tr>\n",
       "    <tr>\n",
       "      <th>52</th>\n",
       "      <td>6eef030c1</td>\n",
       "      <td>0.013195</td>\n",
       "    </tr>\n",
       "    <tr>\n",
       "      <th>5</th>\n",
       "      <td>58e2e02e6</td>\n",
       "      <td>0.010353</td>\n",
       "    </tr>\n",
       "    <tr>\n",
       "      <th>29</th>\n",
       "      <td>1702b5bf0</td>\n",
       "      <td>0.009541</td>\n",
       "    </tr>\n",
       "    <tr>\n",
       "      <th>3</th>\n",
       "      <td>d6bb78916</td>\n",
       "      <td>0.008883</td>\n",
       "    </tr>\n",
       "    <tr>\n",
       "      <th>4</th>\n",
       "      <td>15ace8c9f</td>\n",
       "      <td>0.008500</td>\n",
       "    </tr>\n",
       "    <tr>\n",
       "      <th>41</th>\n",
       "      <td>b43a7cfd5</td>\n",
       "      <td>0.008383</td>\n",
       "    </tr>\n",
       "    <tr>\n",
       "      <th>215</th>\n",
       "      <td>122c135ed</td>\n",
       "      <td>0.008038</td>\n",
       "    </tr>\n",
       "    <tr>\n",
       "      <th>1</th>\n",
       "      <td>58232a6fb</td>\n",
       "      <td>0.008036</td>\n",
       "    </tr>\n",
       "  </tbody>\n",
       "</table>\n",
       "</div>"
      ],
      "text/plain": [
       "           col       imp\n",
       "0    f190486d6  0.020762\n",
       "7    fb49e4212  0.013331\n",
       "52   6eef030c1  0.013195\n",
       "5    58e2e02e6  0.010353\n",
       "29   1702b5bf0  0.009541\n",
       "3    d6bb78916  0.008883\n",
       "4    15ace8c9f  0.008500\n",
       "41   b43a7cfd5  0.008383\n",
       "215  122c135ed  0.008038\n",
       "1    58232a6fb  0.008036"
      ]
     },
     "execution_count": 14,
     "metadata": {},
     "output_type": "execute_result"
    }
   ],
   "source": [
    "feature_imp = pd.DataFrame({'col': x_trn.columns.tolist(),\n",
    "                            'imp': model.feature_importances_})\n",
    "feature_imp.sort_values(by='imp', ascending=False, inplace=True)\n",
    "feature_imp.head(10)"
   ]
  },
  {
   "cell_type": "code",
   "execution_count": 15,
   "metadata": {},
   "outputs": [
    {
     "data": {
      "text/plain": [
       "<matplotlib.axes._subplots.AxesSubplot at 0xb9dd390>"
      ]
     },
     "execution_count": 15,
     "metadata": {},
     "output_type": "execute_result"
    },
    {
     "data": {
      "image/png": "[encoded data removed]",
      "text/plain": [
       "<matplotlib.figure.Figure at 0x756efd0>"
      ]
     },
     "metadata": {},
     "output_type": "display_data"
    }
   ],
   "source": [
    "# Top feature feature remains same, orders have changed bit for others\n",
    "feature_imp[feature_imp.imp > 0].head(20).plot.barh('col', 'imp')"
   ]
  },
  {
   "cell_type": "code",
   "execution_count": null,
   "metadata": {
    "collapsed": true
   },
   "outputs": [],
   "source": []
  },
  {
   "cell_type": "code",
   "execution_count": 16,
   "metadata": {
    "collapsed": true
   },
   "outputs": [],
   "source": [
    "# add statistical features\n",
    "trn['cnt_zero'] = (trn == 0).sum(axis=1)\n",
    "tst['cnt_zero'] = (tst == 0).sum(axis=1)\n",
    "\n",
    "trn['sum'] = trn.sum(axis=1)\n",
    "tst['sum'] = tst.sum(axis=1)\n",
    "\n",
    "tmp_trn = trn[trn!=0]\n",
    "tmp_tst = tst[tst!=0]\n",
    "trn['var'] = tmp_trn.var(axis=1)\n",
    "tst['var'] = tmp_tst.var(axis=1)\n",
    "\n",
    "trn['median'] = tmp_trn.median(axis=1)\n",
    "tst['median'] = tmp_tst.median(axis=1)\n",
    "\n",
    "trn['mean'] = tmp_trn.mean(axis=1)\n",
    "tst['mean'] = tmp_tst.mean(axis=1)\n",
    "\n",
    "trn['std'] = tmp_trn.std(axis=1)\n",
    "tst['std'] = tmp_tst.std(axis=1)\n",
    "\n",
    "trn['max'] = tmp_trn.max(axis=1)\n",
    "tst['max'] = tmp_tst.max(axis=1)\n",
    "\n",
    "trn['min'] = tmp_trn.min(axis=1)\n",
    "tst['min'] = tmp_tst.min(axis=1)"
   ]
  },
  {
   "cell_type": "code",
   "execution_count": null,
   "metadata": {
    "collapsed": true
   },
   "outputs": [],
   "source": []
  },
  {
   "cell_type": "code",
   "execution_count": 17,
   "metadata": {},
   "outputs": [],
   "source": [
    "# add PCA features\n",
    "n_components = 10\n",
    "pca = PCA(n_components=n_components, random_state=2018)\n",
    "pca.fit(trn)\n",
    "\n",
    "cols = ['pca_{}'.format(i) for i in range(n_components)]\n",
    "pca_trn = pd.DataFrame(pca.transform(trn), columns=cols)\n",
    "pca_tst = pd.DataFrame(pca.transform(tst), columns=cols)\n",
    "\n",
    "trn = pd.concat([trn, pca_trn], axis=1)\n",
    "tst = pd.concat([tst, pca_tst], axis=1)"
   ]
  },
  {
   "cell_type": "code",
   "execution_count": null,
   "metadata": {
    "collapsed": true
   },
   "outputs": [],
   "source": []
  },
  {
   "cell_type": "markdown",
   "metadata": {},
   "source": [
    "## Model"
   ]
  },
  {
   "cell_type": "code",
   "execution_count": 18,
   "metadata": {
    "scrolled": true
   },
   "outputs": [
    {
     "name": "stdout",
     "output_type": "stream",
     "text": [
      "[1]\ttraining's rmse: 1.70451\tvalid_1's rmse: 1.75156\n",
      "Training until validation scores don't improve for 5 rounds.\n",
      "[2]\ttraining's rmse: 1.6716\tvalid_1's rmse: 1.72168\n",
      "[3]\ttraining's rmse: 1.63884\tvalid_1's rmse: 1.69157\n",
      "[4]\ttraining's rmse: 1.60849\tvalid_1's rmse: 1.66389\n",
      "[5]\ttraining's rmse: 1.5804\tvalid_1's rmse: 1.63716\n",
      "[6]\ttraining's rmse: 1.55375\tvalid_1's rmse: 1.61285\n",
      "[7]\ttraining's rmse: 1.52877\tvalid_1's rmse: 1.59145\n",
      "[8]\ttraining's rmse: 1.50572\tvalid_1's rmse: 1.57269\n",
      "[9]\ttraining's rmse: 1.48446\tvalid_1's rmse: 1.5555\n",
      "[10]\ttraining's rmse: 1.46408\tvalid_1's rmse: 1.53818\n",
      "[11]\ttraining's rmse: 1.44516\tvalid_1's rmse: 1.52237\n",
      "[12]\ttraining's rmse: 1.42775\tvalid_1's rmse: 1.50687\n",
      "[13]\ttraining's rmse: 1.41152\tvalid_1's rmse: 1.49422\n",
      "[14]\ttraining's rmse: 1.39648\tvalid_1's rmse: 1.48238\n",
      "[15]\ttraining's rmse: 1.38178\tvalid_1's rmse: 1.47102\n",
      "[16]\ttraining's rmse: 1.36803\tvalid_1's rmse: 1.46126\n",
      "[17]\ttraining's rmse: 1.35502\tvalid_1's rmse: 1.45206\n",
      "[18]\ttraining's rmse: 1.34298\tvalid_1's rmse: 1.4436\n",
      "[19]\ttraining's rmse: 1.33171\tvalid_1's rmse: 1.43707\n",
      "[20]\ttraining's rmse: 1.32112\tvalid_1's rmse: 1.43245\n",
      "[21]\ttraining's rmse: 1.31009\tvalid_1's rmse: 1.42561\n",
      "[22]\ttraining's rmse: 1.29972\tvalid_1's rmse: 1.41871\n",
      "[23]\ttraining's rmse: 1.28977\tvalid_1's rmse: 1.41445\n",
      "[24]\ttraining's rmse: 1.28085\tvalid_1's rmse: 1.40978\n",
      "[25]\ttraining's rmse: 1.27254\tvalid_1's rmse: 1.40458\n",
      "[26]\ttraining's rmse: 1.26394\tvalid_1's rmse: 1.39975\n",
      "[27]\ttraining's rmse: 1.25588\tvalid_1's rmse: 1.39634\n",
      "[28]\ttraining's rmse: 1.24792\tvalid_1's rmse: 1.39187\n",
      "[29]\ttraining's rmse: 1.24041\tvalid_1's rmse: 1.38745\n",
      "[30]\ttraining's rmse: 1.23353\tvalid_1's rmse: 1.38456\n",
      "[31]\ttraining's rmse: 1.22634\tvalid_1's rmse: 1.38118\n",
      "[32]\ttraining's rmse: 1.21953\tvalid_1's rmse: 1.37807\n",
      "[33]\ttraining's rmse: 1.21294\tvalid_1's rmse: 1.37505\n",
      "[34]\ttraining's rmse: 1.20704\tvalid_1's rmse: 1.3739\n",
      "[35]\ttraining's rmse: 1.20036\tvalid_1's rmse: 1.37205\n",
      "[36]\ttraining's rmse: 1.19411\tvalid_1's rmse: 1.37066\n",
      "[37]\ttraining's rmse: 1.18799\tvalid_1's rmse: 1.36805\n",
      "[38]\ttraining's rmse: 1.18191\tvalid_1's rmse: 1.36643\n",
      "[39]\ttraining's rmse: 1.17629\tvalid_1's rmse: 1.36416\n",
      "[40]\ttraining's rmse: 1.17069\tvalid_1's rmse: 1.36247\n",
      "[41]\ttraining's rmse: 1.16522\tvalid_1's rmse: 1.35975\n",
      "[42]\ttraining's rmse: 1.1603\tvalid_1's rmse: 1.35881\n",
      "[43]\ttraining's rmse: 1.15528\tvalid_1's rmse: 1.35763\n",
      "[44]\ttraining's rmse: 1.14995\tvalid_1's rmse: 1.35582\n",
      "[45]\ttraining's rmse: 1.14489\tvalid_1's rmse: 1.35505\n",
      "[46]\ttraining's rmse: 1.14029\tvalid_1's rmse: 1.35412\n",
      "[47]\ttraining's rmse: 1.13597\tvalid_1's rmse: 1.35362\n",
      "[48]\ttraining's rmse: 1.13087\tvalid_1's rmse: 1.35291\n",
      "[49]\ttraining's rmse: 1.1264\tvalid_1's rmse: 1.35261\n",
      "[50]\ttraining's rmse: 1.12155\tvalid_1's rmse: 1.35223\n",
      "[51]\ttraining's rmse: 1.11747\tvalid_1's rmse: 1.35078\n",
      "[52]\ttraining's rmse: 1.11338\tvalid_1's rmse: 1.35006\n",
      "[53]\ttraining's rmse: 1.10918\tvalid_1's rmse: 1.34963\n",
      "[54]\ttraining's rmse: 1.10508\tvalid_1's rmse: 1.34866\n",
      "[55]\ttraining's rmse: 1.10096\tvalid_1's rmse: 1.34792\n",
      "[56]\ttraining's rmse: 1.09662\tvalid_1's rmse: 1.3477\n",
      "[57]\ttraining's rmse: 1.09267\tvalid_1's rmse: 1.34763\n",
      "[58]\ttraining's rmse: 1.0886\tvalid_1's rmse: 1.34693\n",
      "[59]\ttraining's rmse: 1.08464\tvalid_1's rmse: 1.34637\n",
      "[60]\ttraining's rmse: 1.081\tvalid_1's rmse: 1.34699\n",
      "[61]\ttraining's rmse: 1.07716\tvalid_1's rmse: 1.34642\n",
      "[62]\ttraining's rmse: 1.07311\tvalid_1's rmse: 1.34573\n",
      "[63]\ttraining's rmse: 1.06937\tvalid_1's rmse: 1.34425\n",
      "[64]\ttraining's rmse: 1.06581\tvalid_1's rmse: 1.34334\n",
      "[65]\ttraining's rmse: 1.06203\tvalid_1's rmse: 1.34293\n",
      "[66]\ttraining's rmse: 1.0584\tvalid_1's rmse: 1.34313\n",
      "[67]\ttraining's rmse: 1.05461\tvalid_1's rmse: 1.34347\n",
      "[68]\ttraining's rmse: 1.05038\tvalid_1's rmse: 1.34385\n",
      "[69]\ttraining's rmse: 1.04663\tvalid_1's rmse: 1.34344\n",
      "[70]\ttraining's rmse: 1.04272\tvalid_1's rmse: 1.34188\n",
      "[71]\ttraining's rmse: 1.03916\tvalid_1's rmse: 1.34194\n",
      "[72]\ttraining's rmse: 1.0354\tvalid_1's rmse: 1.34148\n",
      "[73]\ttraining's rmse: 1.03246\tvalid_1's rmse: 1.34156\n",
      "[74]\ttraining's rmse: 1.02934\tvalid_1's rmse: 1.34119\n",
      "[75]\ttraining's rmse: 1.02635\tvalid_1's rmse: 1.34154\n",
      "[76]\ttraining's rmse: 1.0231\tvalid_1's rmse: 1.34148\n",
      "[77]\ttraining's rmse: 1.0198\tvalid_1's rmse: 1.34089\n",
      "[78]\ttraining's rmse: 1.01657\tvalid_1's rmse: 1.34053\n",
      "[79]\ttraining's rmse: 1.01323\tvalid_1's rmse: 1.34093\n",
      "[80]\ttraining's rmse: 1.01035\tvalid_1's rmse: 1.34063\n",
      "[81]\ttraining's rmse: 1.0071\tvalid_1's rmse: 1.34095\n",
      "[82]\ttraining's rmse: 1.00354\tvalid_1's rmse: 1.34081\n",
      "[83]\ttraining's rmse: 1.00063\tvalid_1's rmse: 1.34158\n",
      "Early stopping, best iteration is:\n",
      "[78]\ttraining's rmse: 1.01657\tvalid_1's rmse: 1.34053\n"
     ]
    }
   ],
   "source": [
    "# lightGBM\n",
    "x_trn, x_val, y_trn, y_val = train_test_split(trn, y, test_size=0.2, random_state=2018)\n",
    "lgb_train = lgb.Dataset(x_trn, np.log1p(y_trn))\n",
    "lgb_eval = lgb.Dataset(x_val, np.log1p(y_val), reference=lgb_train)\n",
    "\n",
    "params = {\n",
    "    'task': 'train',\n",
    "    'boosting_type': 'gbdt',\n",
    "    'objective': 'regression',\n",
    "    'metric': {'rmse'},\n",
    "    'num_leaves': 31,\n",
    "    'learning_rate': 0.05,\n",
    "    'feature_fraction': 0.9,\n",
    "    'bagging_fraction': 0.8,\n",
    "    'bagging_freq': 5,\n",
    "    'verbose': 0\n",
    "}\n",
    "\n",
    "# train\n",
    "gbm = lgb.train(params, lgb_train,\n",
    "                num_boost_round=100,\n",
    "                valid_sets=[lgb_train, lgb_eval],\n",
    "                early_stopping_rounds=5)"
   ]
  },
  {
   "cell_type": "code",
   "execution_count": 19,
   "metadata": {
    "scrolled": true
   },
   "outputs": [],
   "source": [
    "# make prediction\n",
    "lgb_tst = gbm.predict(tst, num_iteration=gbm.best_iteration)\n",
    "tst_subm = pd.DataFrame({'ID': tst_id, 'target': np.exp(lgb_tst) - 1 })\n",
    "fname = 'lgbm.1000feat_statFeats'\n",
    "tst_subm.to_csv(fname, index=False)\n",
    "submit_kaggle_result(comp_name, fname, msg='')\n",
    "check_kaggle_result(comp_name, fname)"
   ]
  },
  {
   "cell_type": "code",
   "execution_count": null,
   "metadata": {
    "collapsed": true
   },
   "outputs": [],
   "source": []
  },
  {
   "cell_type": "code",
   "execution_count": 20,
   "metadata": {},
   "outputs": [
    {
     "name": "stdout",
     "output_type": "stream",
     "text": [
      "[11:20:26] /workspace/src/tree/updater_prune.cc:74: tree pruning end, 1 roots, 4 extra nodes, 0 pruned nodes, max_depth=2\n",
      "[0]\teval-rmse:13.3052\ttrain-rmse:13.4271\n",
      "Multiple eval metrics have been passed: 'train-rmse' will be used for early stopping.\n",
      "\n",
      "Will train until train-rmse hasn't improved in 10 rounds.\n",
      "[11:20:26] /workspace/src/tree/updater_prune.cc:74: tree pruning end, 1 roots, 6 extra nodes, 0 pruned nodes, max_depth=2\n",
      "[1]\teval-rmse:12.6445\ttrain-rmse:12.7642\n",
      "[11:20:26] /workspace/src/tree/updater_prune.cc:74: tree pruning end, 1 roots, 6 extra nodes, 0 pruned nodes, max_depth=2\n",
      "[2]\teval-rmse:12.0193\ttrain-rmse:12.1365\n",
      "[11:20:26] /workspace/src/tree/updater_prune.cc:74: tree pruning end, 1 roots, 8 extra nodes, 0 pruned nodes, max_depth=3\n",
      "[3]\teval-rmse:11.4248\ttrain-rmse:11.54\n",
      "[11:20:26] /workspace/src/tree/updater_prune.cc:74: tree pruning end, 1 roots, 4 extra nodes, 0 pruned nodes, max_depth=2\n",
      "[4]\teval-rmse:10.8596\ttrain-rmse:10.9733\n",
      "[11:20:26] /workspace/src/tree/updater_prune.cc:74: tree pruning end, 1 roots, 8 extra nodes, 0 pruned nodes, max_depth=3\n",
      "[5]\teval-rmse:10.3243\ttrain-rmse:10.4353\n",
      "[11:20:26] /workspace/src/tree/updater_prune.cc:74: tree pruning end, 1 roots, 18 extra nodes, 0 pruned nodes, max_depth=5\n",
      "[6]\teval-rmse:9.81663\ttrain-rmse:9.92497\n",
      "[11:20:26] /workspace/src/tree/updater_prune.cc:74: tree pruning end, 1 roots, 12 extra nodes, 0 pruned nodes, max_depth=4\n",
      "[7]\teval-rmse:9.33412\ttrain-rmse:9.44056\n",
      "[11:20:26] /workspace/src/tree/updater_prune.cc:74: tree pruning end, 1 roots, 22 extra nodes, 0 pruned nodes, max_depth=5\n",
      "[8]\teval-rmse:8.8762\ttrain-rmse:8.98087\n",
      "[11:20:26] /workspace/src/tree/updater_prune.cc:74: tree pruning end, 1 roots, 28 extra nodes, 0 pruned nodes, max_depth=7\n",
      "[9]\teval-rmse:8.44102\ttrain-rmse:8.54428\n",
      "[11:20:26] /workspace/src/tree/updater_prune.cc:74: tree pruning end, 1 roots, 28 extra nodes, 0 pruned nodes, max_depth=7\n",
      "[10]\teval-rmse:8.02872\ttrain-rmse:8.12902\n",
      "[11:20:26] /workspace/src/tree/updater_prune.cc:74: tree pruning end, 1 roots, 40 extra nodes, 0 pruned nodes, max_depth=10\n",
      "[11]\teval-rmse:7.63961\ttrain-rmse:7.73625\n",
      "[11:20:26] /workspace/src/tree/updater_prune.cc:74: tree pruning end, 1 roots, 46 extra nodes, 0 pruned nodes, max_depth=10\n",
      "[12]\teval-rmse:7.26814\ttrain-rmse:7.3626\n",
      "[11:20:26] /workspace/src/tree/updater_prune.cc:74: tree pruning end, 1 roots, 46 extra nodes, 0 pruned nodes, max_depth=10\n",
      "[13]\teval-rmse:6.91771\ttrain-rmse:7.00902\n",
      "[11:20:26] /workspace/src/tree/updater_prune.cc:74: tree pruning end, 1 roots, 72 extra nodes, 0 pruned nodes, max_depth=10\n",
      "[14]\teval-rmse:6.58532\ttrain-rmse:6.6726\n",
      "[11:20:26] /workspace/src/tree/updater_prune.cc:74: tree pruning end, 1 roots, 74 extra nodes, 0 pruned nodes, max_depth=10\n",
      "[15]\teval-rmse:6.27115\ttrain-rmse:6.35415\n",
      "[11:20:26] /workspace/src/tree/updater_prune.cc:74: tree pruning end, 1 roots, 60 extra nodes, 0 pruned nodes, max_depth=10\n",
      "[16]\teval-rmse:5.97071\ttrain-rmse:6.05128\n",
      "[11:20:26] /workspace/src/tree/updater_prune.cc:74: tree pruning end, 1 roots, 64 extra nodes, 0 pruned nodes, max_depth=10\n",
      "[17]\teval-rmse:5.68598\ttrain-rmse:5.76472\n",
      "[11:20:26] /workspace/src/tree/updater_prune.cc:74: tree pruning end, 1 roots, 96 extra nodes, 0 pruned nodes, max_depth=10\n",
      "[18]\teval-rmse:5.41711\ttrain-rmse:5.49268\n",
      "[11:20:26] /workspace/src/tree/updater_prune.cc:74: tree pruning end, 1 roots, 80 extra nodes, 0 pruned nodes, max_depth=10\n",
      "[19]\teval-rmse:5.16147\ttrain-rmse:5.23444\n",
      "[11:20:26] /workspace/src/tree/updater_prune.cc:74: tree pruning end, 1 roots, 76 extra nodes, 0 pruned nodes, max_depth=10\n",
      "[20]\teval-rmse:4.92293\ttrain-rmse:4.99015\n",
      "[11:20:26] /workspace/src/tree/updater_prune.cc:74: tree pruning end, 1 roots, 106 extra nodes, 0 pruned nodes, max_depth=10\n",
      "[21]\teval-rmse:4.69396\ttrain-rmse:4.75752\n",
      "[11:20:26] /workspace/src/tree/updater_prune.cc:74: tree pruning end, 1 roots, 116 extra nodes, 0 pruned nodes, max_depth=10\n",
      "[22]\teval-rmse:4.47778\ttrain-rmse:4.53576\n",
      "[11:20:26] /workspace/src/tree/updater_prune.cc:74: tree pruning end, 1 roots, 120 extra nodes, 0 pruned nodes, max_depth=10\n",
      "[23]\teval-rmse:4.27296\ttrain-rmse:4.32556\n",
      "[11:20:26] /workspace/src/tree/updater_prune.cc:74: tree pruning end, 1 roots, 114 extra nodes, 0 pruned nodes, max_depth=10\n",
      "[24]\teval-rmse:4.0833\ttrain-rmse:4.1295\n",
      "[11:20:26] /workspace/src/tree/updater_prune.cc:74: tree pruning end, 1 roots, 128 extra nodes, 0 pruned nodes, max_depth=10\n",
      "[25]\teval-rmse:3.904\ttrain-rmse:3.94314\n",
      "[11:20:26] /workspace/src/tree/updater_prune.cc:74: tree pruning end, 1 roots, 132 extra nodes, 0 pruned nodes, max_depth=10\n",
      "[26]\teval-rmse:3.73249\ttrain-rmse:3.76655\n",
      "[11:20:26] /workspace/src/tree/updater_prune.cc:74: tree pruning end, 1 roots, 118 extra nodes, 0 pruned nodes, max_depth=10\n",
      "[27]\teval-rmse:3.5703\ttrain-rmse:3.59872\n",
      "[11:20:26] /workspace/src/tree/updater_prune.cc:74: tree pruning end, 1 roots, 140 extra nodes, 0 pruned nodes, max_depth=10\n",
      "[28]\teval-rmse:3.41801\ttrain-rmse:3.44007\n",
      "[11:20:26] /workspace/src/tree/updater_prune.cc:74: tree pruning end, 1 roots, 152 extra nodes, 0 pruned nodes, max_depth=10\n",
      "[29]\teval-rmse:3.2749\ttrain-rmse:3.28933\n",
      "[11:20:26] /workspace/src/tree/updater_prune.cc:74: tree pruning end, 1 roots, 130 extra nodes, 0 pruned nodes, max_depth=10\n",
      "[30]\teval-rmse:3.13856\ttrain-rmse:3.14751\n",
      "[11:20:26] /workspace/src/tree/updater_prune.cc:74: tree pruning end, 1 roots, 128 extra nodes, 0 pruned nodes, max_depth=10\n",
      "[31]\teval-rmse:3.01311\ttrain-rmse:3.01295\n",
      "[11:20:26] /workspace/src/tree/updater_prune.cc:74: tree pruning end, 1 roots, 130 extra nodes, 0 pruned nodes, max_depth=10\n",
      "[32]\teval-rmse:2.89151\ttrain-rmse:2.88528\n",
      "[11:20:26] /workspace/src/tree/updater_prune.cc:74: tree pruning end, 1 roots, 198 extra nodes, 0 pruned nodes, max_depth=10\n",
      "[33]\teval-rmse:2.77886\ttrain-rmse:2.76427\n",
      "[11:20:26] /workspace/src/tree/updater_prune.cc:74: tree pruning end, 1 roots, 204 extra nodes, 0 pruned nodes, max_depth=10\n",
      "[34]\teval-rmse:2.67351\ttrain-rmse:2.64997\n",
      "[11:20:26] /workspace/src/tree/updater_prune.cc:74: tree pruning end, 1 roots, 266 extra nodes, 0 pruned nodes, max_depth=10\n",
      "[35]\teval-rmse:2.57301\ttrain-rmse:2.54147\n",
      "[11:20:26] /workspace/src/tree/updater_prune.cc:74: tree pruning end, 1 roots, 204 extra nodes, 0 pruned nodes, max_depth=10\n",
      "[36]\teval-rmse:2.48052\ttrain-rmse:2.43943\n",
      "[11:20:26] /workspace/src/tree/updater_prune.cc:74: tree pruning end, 1 roots, 202 extra nodes, 0 pruned nodes, max_depth=10\n",
      "[37]\teval-rmse:2.39243\ttrain-rmse:2.3421\n",
      "[11:20:26] /workspace/src/tree/updater_prune.cc:74: tree pruning end, 1 roots, 218 extra nodes, 0 pruned nodes, max_depth=10\n",
      "[38]\teval-rmse:2.31102\ttrain-rmse:2.25076\n",
      "[11:20:26] /workspace/src/tree/updater_prune.cc:74: tree pruning end, 1 roots, 202 extra nodes, 0 pruned nodes, max_depth=10\n",
      "[39]\teval-rmse:2.23251\ttrain-rmse:2.16452\n",
      "[11:20:26] /workspace/src/tree/updater_prune.cc:74: tree pruning end, 1 roots, 232 extra nodes, 0 pruned nodes, max_depth=10\n",
      "[40]\teval-rmse:2.16111\ttrain-rmse:2.08234\n",
      "[11:20:26] /workspace/src/tree/updater_prune.cc:74: tree pruning end, 1 roots, 236 extra nodes, 0 pruned nodes, max_depth=10\n",
      "[41]\teval-rmse:2.09503\ttrain-rmse:2.00568\n",
      "[11:20:26] /workspace/src/tree/updater_prune.cc:74: tree pruning end, 1 roots, 250 extra nodes, 0 pruned nodes, max_depth=10\n",
      "[42]\teval-rmse:2.03485\ttrain-rmse:1.9339\n",
      "[11:20:26] /workspace/src/tree/updater_prune.cc:74: tree pruning end, 1 roots, 182 extra nodes, 0 pruned nodes, max_depth=10\n",
      "[43]\teval-rmse:1.97674\ttrain-rmse:1.86695\n",
      "[11:20:26] /workspace/src/tree/updater_prune.cc:74: tree pruning end, 1 roots, 212 extra nodes, 0 pruned nodes, max_depth=10\n",
      "[44]\teval-rmse:1.92352\ttrain-rmse:1.80365\n",
      "[11:20:26] /workspace/src/tree/updater_prune.cc:74: tree pruning end, 1 roots, 248 extra nodes, 0 pruned nodes, max_depth=10\n",
      "[45]\teval-rmse:1.87573\ttrain-rmse:1.74411\n",
      "[11:20:26] /workspace/src/tree/updater_prune.cc:74: tree pruning end, 1 roots, 250 extra nodes, 0 pruned nodes, max_depth=10\n",
      "[46]\teval-rmse:1.83075\ttrain-rmse:1.68799\n",
      "[11:20:26] /workspace/src/tree/updater_prune.cc:74: tree pruning end, 1 roots, 232 extra nodes, 0 pruned nodes, max_depth=10\n",
      "[47]\teval-rmse:1.78776\ttrain-rmse:1.63392\n",
      "[11:20:26] /workspace/src/tree/updater_prune.cc:74: tree pruning end, 1 roots, 176 extra nodes, 0 pruned nodes, max_depth=10\n",
      "[48]\teval-rmse:1.74971\ttrain-rmse:1.58546\n"
     ]
    },
    {
     "name": "stdout",
     "output_type": "stream",
     "text": [
      "[11:20:26] /workspace/src/tree/updater_prune.cc:74: tree pruning end, 1 roots, 246 extra nodes, 0 pruned nodes, max_depth=10\n",
      "[49]\teval-rmse:1.71322\ttrain-rmse:1.53771\n",
      "[11:20:26] /workspace/src/tree/updater_prune.cc:74: tree pruning end, 1 roots, 282 extra nodes, 0 pruned nodes, max_depth=10\n",
      "[50]\teval-rmse:1.68136\ttrain-rmse:1.49275\n",
      "[11:20:26] /workspace/src/tree/updater_prune.cc:74: tree pruning end, 1 roots, 214 extra nodes, 0 pruned nodes, max_depth=10\n",
      "[51]\teval-rmse:1.65129\ttrain-rmse:1.45244\n",
      "[11:20:26] /workspace/src/tree/updater_prune.cc:74: tree pruning end, 1 roots, 292 extra nodes, 0 pruned nodes, max_depth=10\n",
      "[52]\teval-rmse:1.62536\ttrain-rmse:1.41377\n",
      "[11:20:26] /workspace/src/tree/updater_prune.cc:74: tree pruning end, 1 roots, 336 extra nodes, 0 pruned nodes, max_depth=10\n",
      "[53]\teval-rmse:1.60136\ttrain-rmse:1.3759\n",
      "[11:20:26] /workspace/src/tree/updater_prune.cc:74: tree pruning end, 1 roots, 264 extra nodes, 0 pruned nodes, max_depth=10\n",
      "[54]\teval-rmse:1.57603\ttrain-rmse:1.34095\n",
      "[11:20:26] /workspace/src/tree/updater_prune.cc:74: tree pruning end, 1 roots, 264 extra nodes, 0 pruned nodes, max_depth=10\n",
      "[55]\teval-rmse:1.55318\ttrain-rmse:1.30896\n",
      "[11:20:26] /workspace/src/tree/updater_prune.cc:74: tree pruning end, 1 roots, 258 extra nodes, 0 pruned nodes, max_depth=10\n",
      "[56]\teval-rmse:1.53248\ttrain-rmse:1.27892\n",
      "[11:20:27] /workspace/src/tree/updater_prune.cc:74: tree pruning end, 1 roots, 276 extra nodes, 0 pruned nodes, max_depth=10\n",
      "[57]\teval-rmse:1.51555\ttrain-rmse:1.25008\n",
      "[11:20:27] /workspace/src/tree/updater_prune.cc:74: tree pruning end, 1 roots, 286 extra nodes, 0 pruned nodes, max_depth=10\n",
      "[58]\teval-rmse:1.49918\ttrain-rmse:1.22341\n",
      "[11:20:27] /workspace/src/tree/updater_prune.cc:74: tree pruning end, 1 roots, 236 extra nodes, 0 pruned nodes, max_depth=10\n",
      "[59]\teval-rmse:1.48405\ttrain-rmse:1.19964\n",
      "[11:20:27] /workspace/src/tree/updater_prune.cc:74: tree pruning end, 1 roots, 196 extra nodes, 0 pruned nodes, max_depth=10\n",
      "[60]\teval-rmse:1.47008\ttrain-rmse:1.17752\n",
      "[11:20:27] /workspace/src/tree/updater_prune.cc:74: tree pruning end, 1 roots, 190 extra nodes, 0 pruned nodes, max_depth=10\n",
      "[61]\teval-rmse:1.45767\ttrain-rmse:1.15729\n",
      "[11:20:27] /workspace/src/tree/updater_prune.cc:74: tree pruning end, 1 roots, 352 extra nodes, 0 pruned nodes, max_depth=10\n",
      "[62]\teval-rmse:1.44674\ttrain-rmse:1.13413\n",
      "[11:20:27] /workspace/src/tree/updater_prune.cc:74: tree pruning end, 1 roots, 250 extra nodes, 0 pruned nodes, max_depth=10\n",
      "[63]\teval-rmse:1.43668\ttrain-rmse:1.11522\n",
      "[11:20:27] /workspace/src/tree/updater_prune.cc:74: tree pruning end, 1 roots, 178 extra nodes, 0 pruned nodes, max_depth=10\n",
      "[64]\teval-rmse:1.4273\ttrain-rmse:1.09778\n",
      "[11:20:27] /workspace/src/tree/updater_prune.cc:74: tree pruning end, 1 roots, 368 extra nodes, 0 pruned nodes, max_depth=10\n",
      "[65]\teval-rmse:1.41912\ttrain-rmse:1.07942\n",
      "[11:20:27] /workspace/src/tree/updater_prune.cc:74: tree pruning end, 1 roots, 246 extra nodes, 0 pruned nodes, max_depth=10\n",
      "[66]\teval-rmse:1.41054\ttrain-rmse:1.06432\n",
      "[11:20:27] /workspace/src/tree/updater_prune.cc:74: tree pruning end, 1 roots, 280 extra nodes, 0 pruned nodes, max_depth=10\n",
      "[67]\teval-rmse:1.40346\ttrain-rmse:1.04787\n",
      "[11:20:27] /workspace/src/tree/updater_prune.cc:74: tree pruning end, 1 roots, 214 extra nodes, 0 pruned nodes, max_depth=10\n",
      "[68]\teval-rmse:1.39705\ttrain-rmse:1.03521\n",
      "[11:20:27] /workspace/src/tree/updater_prune.cc:74: tree pruning end, 1 roots, 188 extra nodes, 0 pruned nodes, max_depth=10\n",
      "[69]\teval-rmse:1.39095\ttrain-rmse:1.02296\n",
      "[11:20:27] /workspace/src/tree/updater_prune.cc:74: tree pruning end, 1 roots, 286 extra nodes, 0 pruned nodes, max_depth=10\n",
      "[70]\teval-rmse:1.38531\ttrain-rmse:1.01085\n",
      "[11:20:27] /workspace/src/tree/updater_prune.cc:74: tree pruning end, 1 roots, 212 extra nodes, 0 pruned nodes, max_depth=10\n",
      "[71]\teval-rmse:1.38094\ttrain-rmse:0.999313\n",
      "[11:20:27] /workspace/src/tree/updater_prune.cc:74: tree pruning end, 1 roots, 196 extra nodes, 0 pruned nodes, max_depth=10\n",
      "[72]\teval-rmse:1.37657\ttrain-rmse:0.99015\n",
      "[11:20:27] /workspace/src/tree/updater_prune.cc:74: tree pruning end, 1 roots, 206 extra nodes, 0 pruned nodes, max_depth=10\n",
      "[73]\teval-rmse:1.37259\ttrain-rmse:0.980218\n",
      "[11:20:27] /workspace/src/tree/updater_prune.cc:74: tree pruning end, 1 roots, 242 extra nodes, 0 pruned nodes, max_depth=10\n",
      "[74]\teval-rmse:1.37003\ttrain-rmse:0.970534\n",
      "[11:20:27] /workspace/src/tree/updater_prune.cc:74: tree pruning end, 1 roots, 194 extra nodes, 0 pruned nodes, max_depth=10\n",
      "[75]\teval-rmse:1.36735\ttrain-rmse:0.962434\n",
      "[11:20:27] /workspace/src/tree/updater_prune.cc:74: tree pruning end, 1 roots, 328 extra nodes, 0 pruned nodes, max_depth=10\n",
      "[76]\teval-rmse:1.36471\ttrain-rmse:0.953535\n",
      "[11:20:27] /workspace/src/tree/updater_prune.cc:74: tree pruning end, 1 roots, 258 extra nodes, 0 pruned nodes, max_depth=10\n",
      "[77]\teval-rmse:1.36253\ttrain-rmse:0.944374\n",
      "[11:20:27] /workspace/src/tree/updater_prune.cc:74: tree pruning end, 1 roots, 256 extra nodes, 0 pruned nodes, max_depth=10\n",
      "[78]\teval-rmse:1.36076\ttrain-rmse:0.937543\n",
      "[11:20:27] /workspace/src/tree/updater_prune.cc:74: tree pruning end, 1 roots, 256 extra nodes, 0 pruned nodes, max_depth=10\n",
      "[79]\teval-rmse:1.35895\ttrain-rmse:0.930567\n",
      "[11:20:27] /workspace/src/tree/updater_prune.cc:74: tree pruning end, 1 roots, 228 extra nodes, 0 pruned nodes, max_depth=10\n",
      "[80]\teval-rmse:1.35691\ttrain-rmse:0.924074\n",
      "[11:20:27] /workspace/src/tree/updater_prune.cc:74: tree pruning end, 1 roots, 222 extra nodes, 0 pruned nodes, max_depth=10\n",
      "[81]\teval-rmse:1.35485\ttrain-rmse:0.916775\n",
      "[11:20:27] /workspace/src/tree/updater_prune.cc:74: tree pruning end, 1 roots, 354 extra nodes, 0 pruned nodes, max_depth=10\n",
      "[82]\teval-rmse:1.35226\ttrain-rmse:0.907228\n",
      "[11:20:27] /workspace/src/tree/updater_prune.cc:74: tree pruning end, 1 roots, 144 extra nodes, 0 pruned nodes, max_depth=10\n",
      "[83]\teval-rmse:1.35165\ttrain-rmse:0.902431\n",
      "[11:20:27] /workspace/src/tree/updater_prune.cc:74: tree pruning end, 1 roots, 248 extra nodes, 0 pruned nodes, max_depth=10\n",
      "[84]\teval-rmse:1.3506\ttrain-rmse:0.897019\n",
      "[11:20:27] /workspace/src/tree/updater_prune.cc:74: tree pruning end, 1 roots, 208 extra nodes, 0 pruned nodes, max_depth=10\n",
      "[85]\teval-rmse:1.34923\ttrain-rmse:0.890004\n",
      "[11:20:27] /workspace/src/tree/updater_prune.cc:74: tree pruning end, 1 roots, 266 extra nodes, 0 pruned nodes, max_depth=10\n",
      "[86]\teval-rmse:1.34817\ttrain-rmse:0.882619\n",
      "[11:20:27] /workspace/src/tree/updater_prune.cc:74: tree pruning end, 1 roots, 230 extra nodes, 0 pruned nodes, max_depth=10\n",
      "[87]\teval-rmse:1.34726\ttrain-rmse:0.877263\n",
      "[11:20:27] /workspace/src/tree/updater_prune.cc:74: tree pruning end, 1 roots, 246 extra nodes, 0 pruned nodes, max_depth=10\n",
      "[88]\teval-rmse:1.34662\ttrain-rmse:0.871766\n",
      "[11:20:27] /workspace/src/tree/updater_prune.cc:74: tree pruning end, 1 roots, 380 extra nodes, 0 pruned nodes, max_depth=10\n",
      "[89]\teval-rmse:1.34665\ttrain-rmse:0.865376\n",
      "[11:20:27] /workspace/src/tree/updater_prune.cc:74: tree pruning end, 1 roots, 100 extra nodes, 0 pruned nodes, max_depth=10\n",
      "[90]\teval-rmse:1.34641\ttrain-rmse:0.862915\n",
      "[11:20:27] /workspace/src/tree/updater_prune.cc:74: tree pruning end, 1 roots, 132 extra nodes, 0 pruned nodes, max_depth=10\n",
      "[91]\teval-rmse:1.3458\ttrain-rmse:0.859245\n",
      "[11:20:27] /workspace/src/tree/updater_prune.cc:74: tree pruning end, 1 roots, 256 extra nodes, 0 pruned nodes, max_depth=10\n",
      "[92]\teval-rmse:1.34526\ttrain-rmse:0.854195\n",
      "[11:20:27] /workspace/src/tree/updater_prune.cc:74: tree pruning end, 1 roots, 204 extra nodes, 0 pruned nodes, max_depth=10\n",
      "[93]\teval-rmse:1.34502\ttrain-rmse:0.851165\n",
      "[11:20:27] /workspace/src/tree/updater_prune.cc:74: tree pruning end, 1 roots, 258 extra nodes, 0 pruned nodes, max_depth=10\n",
      "[94]\teval-rmse:1.34486\ttrain-rmse:0.847144\n",
      "[11:20:27] /workspace/src/tree/updater_prune.cc:74: tree pruning end, 1 roots, 62 extra nodes, 0 pruned nodes, max_depth=10\n",
      "[95]\teval-rmse:1.345\ttrain-rmse:0.84515\n",
      "[11:20:27] /workspace/src/tree/updater_prune.cc:74: tree pruning end, 1 roots, 248 extra nodes, 0 pruned nodes, max_depth=10\n",
      "[96]\teval-rmse:1.34403\ttrain-rmse:0.840434\n",
      "[11:20:27] /workspace/src/tree/updater_prune.cc:74: tree pruning end, 1 roots, 280 extra nodes, 0 pruned nodes, max_depth=10\n",
      "[97]\teval-rmse:1.34396\ttrain-rmse:0.83537\n"
     ]
    },
    {
     "name": "stdout",
     "output_type": "stream",
     "text": [
      "[11:20:27] /workspace/src/tree/updater_prune.cc:74: tree pruning end, 1 roots, 290 extra nodes, 0 pruned nodes, max_depth=10\n",
      "[98]\teval-rmse:1.34361\ttrain-rmse:0.829306\n",
      "[11:20:27] /workspace/src/tree/updater_prune.cc:74: tree pruning end, 1 roots, 302 extra nodes, 0 pruned nodes, max_depth=10\n",
      "[99]\teval-rmse:1.34365\ttrain-rmse:0.823799\n"
     ]
    }
   ],
   "source": [
    "# XGBoost\n",
    "xgb_train = xgb.DMatrix(x_trn, np.log1p(y_trn))\n",
    "xgb_eval = xgb.DMatrix(x_val, np.log1p(y_val))\n",
    "\n",
    "params = {\n",
    "    'boostser': 'gbtree',\n",
    "    'eta': 0.05,\n",
    "    'max_depth': 10,\n",
    "    'subsample': 0.7,\n",
    "    'colsample_bytree': 0.8,\n",
    "    \n",
    "    'objective': 'reg:linear',\n",
    "    'eval_metric': 'rmse',\n",
    "}\n",
    "\n",
    "# train\n",
    "evallist = [(xgb_eval, 'eval'), (xgb_train, 'train')]\n",
    "bst = xgb.train(params, xgb_train, evals=evallist,\n",
    "                num_boost_round=100,\n",
    "                early_stopping_rounds=10)"
   ]
  },
  {
   "cell_type": "code",
   "execution_count": 21,
   "metadata": {},
   "outputs": [],
   "source": [
    "# make prediction\n",
    "xgb_tst = xgb.DMatrix(tst)\n",
    "tst_pred = bst.predict(xgb_tst)\n",
    "tst_subm = pd.DataFrame({'ID': tst_id, 'target': np.exp(tst_pred) - 1 })\n",
    "fname = 'xgb.1000feat_statFeats'\n",
    "tst_subm.to_csv(fname, index=False)\n",
    "submit_kaggle_result(comp_name, fname, msg='')\n",
    "check_kaggle_result(comp_name, fname)"
   ]
  },
  {
   "cell_type": "code",
   "execution_count": null,
   "metadata": {
    "collapsed": true
   },
   "outputs": [],
   "source": []
  },
  {
   "cell_type": "code",
   "execution_count": 22,
   "metadata": {},
   "outputs": [
    {
     "name": "stdout",
     "output_type": "stream",
     "text": [
      "0:\tlearn: 13.9020772\ttest: 13.7786759\tbest: 13.7786759 (0)\ttotal: 60.1ms\tremaining: 1m\n",
      "1:\tlearn: 13.2204004\ttest: 13.0970588\tbest: 13.0970588 (1)\ttotal: 69.6ms\tremaining: 34.7s\n",
      "2:\tlearn: 12.5726391\ttest: 12.4496264\tbest: 12.4496264 (2)\ttotal: 80.1ms\tremaining: 26.6s\n",
      "3:\tlearn: 11.9583516\ttest: 11.8357460\tbest: 11.8357460 (3)\ttotal: 88.8ms\tremaining: 22.1s\n",
      "4:\tlearn: 11.3752897\ttest: 11.2531749\tbest: 11.2531749 (4)\ttotal: 99.2ms\tremaining: 19.7s\n",
      "5:\tlearn: 10.8215422\ttest: 10.6998561\tbest: 10.6998561 (5)\ttotal: 108ms\tremaining: 17.9s\n",
      "6:\tlearn: 10.2961085\ttest: 10.1748779\tbest: 10.1748779 (6)\ttotal: 117ms\tremaining: 16.5s\n",
      "7:\tlearn: 9.7980095\ttest: 9.6777031\tbest: 9.6777031 (7)\ttotal: 125ms\tremaining: 15.6s\n",
      "8:\tlearn: 9.3253010\ttest: 9.2063423\tbest: 9.2063423 (8)\ttotal: 134ms\tremaining: 14.7s\n",
      "9:\tlearn: 8.8766791\ttest: 8.7584487\tbest: 8.7584487 (9)\ttotal: 142ms\tremaining: 14.1s\n",
      "10:\tlearn: 8.4513304\ttest: 8.3354174\tbest: 8.3354174 (10)\ttotal: 151ms\tremaining: 13.6s\n",
      "11:\tlearn: 8.0482144\ttest: 7.9332958\tbest: 7.9332958 (11)\ttotal: 160ms\tremaining: 13.2s\n",
      "12:\tlearn: 7.6663189\ttest: 7.5520472\tbest: 7.5520472 (12)\ttotal: 169ms\tremaining: 12.8s\n",
      "13:\tlearn: 7.3043523\ttest: 7.1909723\tbest: 7.1909723 (13)\ttotal: 178ms\tremaining: 12.5s\n",
      "14:\tlearn: 6.9614260\ttest: 6.8489541\tbest: 6.8489541 (14)\ttotal: 187ms\tremaining: 12.3s\n",
      "15:\tlearn: 6.6361404\ttest: 6.5241238\tbest: 6.5241238 (15)\ttotal: 197ms\tremaining: 12.1s\n",
      "16:\tlearn: 6.3283028\ttest: 6.2172611\tbest: 6.2172611 (16)\ttotal: 205ms\tremaining: 11.9s\n",
      "17:\tlearn: 6.0371308\ttest: 5.9269621\tbest: 5.9269621 (17)\ttotal: 215ms\tremaining: 11.7s\n",
      "18:\tlearn: 5.7614699\ttest: 5.6522782\tbest: 5.6522782 (18)\ttotal: 223ms\tremaining: 11.5s\n",
      "19:\tlearn: 5.5009420\ttest: 5.3933526\tbest: 5.3933526 (19)\ttotal: 234ms\tremaining: 11.5s\n",
      "20:\tlearn: 5.2546659\ttest: 5.1488106\tbest: 5.1488106 (20)\ttotal: 244ms\tremaining: 11.4s\n",
      "21:\tlearn: 5.0184788\ttest: 4.9145196\tbest: 4.9145196 (21)\ttotal: 255ms\tremaining: 11.3s\n",
      "22:\tlearn: 4.7984670\ttest: 4.6958783\tbest: 4.6958783 (22)\ttotal: 268ms\tremaining: 11.4s\n",
      "23:\tlearn: 4.5907217\ttest: 4.4895970\tbest: 4.4895970 (23)\ttotal: 277ms\tremaining: 11.3s\n",
      "24:\tlearn: 4.3945509\ttest: 4.2944964\tbest: 4.2944964 (24)\ttotal: 289ms\tremaining: 11.3s\n",
      "25:\tlearn: 4.2063520\ttest: 4.1073683\tbest: 4.1073683 (25)\ttotal: 300ms\tremaining: 11.2s\n",
      "26:\tlearn: 4.0321859\ttest: 3.9348188\tbest: 3.9348188 (26)\ttotal: 316ms\tremaining: 11.4s\n",
      "27:\tlearn: 3.8680998\ttest: 3.7730082\tbest: 3.7730082 (27)\ttotal: 328ms\tremaining: 11.4s\n",
      "28:\tlearn: 3.7139348\ttest: 3.6205001\tbest: 3.6205001 (28)\ttotal: 335ms\tremaining: 11.2s\n",
      "29:\tlearn: 3.5690657\ttest: 3.4776791\tbest: 3.4776791 (29)\ttotal: 345ms\tremaining: 11.2s\n",
      "30:\tlearn: 3.4330464\ttest: 3.3439761\tbest: 3.3439761 (30)\ttotal: 354ms\tremaining: 11.1s\n",
      "31:\tlearn: 3.3053356\ttest: 3.2180971\tbest: 3.2180971 (31)\ttotal: 362ms\tremaining: 11s\n",
      "32:\tlearn: 3.1787707\ttest: 3.0938024\tbest: 3.0938024 (32)\ttotal: 371ms\tremaining: 10.9s\n",
      "33:\tlearn: 3.0665204\ttest: 2.9840530\tbest: 2.9840530 (33)\ttotal: 380ms\tremaining: 10.8s\n",
      "34:\tlearn: 2.9610782\ttest: 2.8807019\tbest: 2.8807019 (34)\ttotal: 390ms\tremaining: 10.7s\n",
      "35:\tlearn: 2.8628266\ttest: 2.7851298\tbest: 2.7851298 (35)\ttotal: 399ms\tremaining: 10.7s\n",
      "36:\tlearn: 2.7639288\ttest: 2.6895536\tbest: 2.6895536 (36)\ttotal: 408ms\tremaining: 10.6s\n",
      "37:\tlearn: 2.6739068\ttest: 2.6012709\tbest: 2.6012709 (37)\ttotal: 418ms\tremaining: 10.6s\n",
      "38:\tlearn: 2.5846416\ttest: 2.5155400\tbest: 2.5155400 (38)\ttotal: 426ms\tremaining: 10.5s\n",
      "39:\tlearn: 2.5054684\ttest: 2.4394014\tbest: 2.4394014 (39)\ttotal: 434ms\tremaining: 10.4s\n",
      "40:\tlearn: 2.4271858\ttest: 2.3651155\tbest: 2.3651155 (40)\ttotal: 443ms\tremaining: 10.4s\n",
      "41:\tlearn: 2.3547994\ttest: 2.2948160\tbest: 2.2948160 (41)\ttotal: 455ms\tremaining: 10.4s\n",
      "42:\tlearn: 2.2883222\ttest: 2.2311507\tbest: 2.2311507 (42)\ttotal: 464ms\tremaining: 10.3s\n",
      "43:\tlearn: 2.2237973\ttest: 2.1698338\tbest: 2.1698338 (43)\ttotal: 473ms\tremaining: 10.3s\n",
      "44:\tlearn: 2.1647256\ttest: 2.1144346\tbest: 2.1144346 (44)\ttotal: 482ms\tremaining: 10.2s\n",
      "45:\tlearn: 2.1089057\ttest: 2.0616205\tbest: 2.0616205 (45)\ttotal: 491ms\tremaining: 10.2s\n",
      "46:\tlearn: 2.0588055\ttest: 2.0142692\tbest: 2.0142692 (46)\ttotal: 501ms\tremaining: 10.2s\n",
      "47:\tlearn: 2.0148361\ttest: 1.9727679\tbest: 1.9727679 (47)\ttotal: 509ms\tremaining: 10.1s\n",
      "48:\tlearn: 1.9764017\ttest: 1.9371290\tbest: 1.9371290 (48)\ttotal: 518ms\tremaining: 10.1s\n",
      "49:\tlearn: 1.9367739\ttest: 1.9008320\tbest: 1.9008320 (49)\ttotal: 528ms\tremaining: 10s\n",
      "50:\tlearn: 1.8950778\ttest: 1.8619324\tbest: 1.8619324 (50)\ttotal: 537ms\tremaining: 9.99s\n",
      "51:\tlearn: 1.8619550\ttest: 1.8316614\tbest: 1.8316614 (51)\ttotal: 545ms\tremaining: 9.94s\n",
      "52:\tlearn: 1.8272747\ttest: 1.7995037\tbest: 1.7995037 (52)\ttotal: 554ms\tremaining: 9.9s\n",
      "53:\tlearn: 1.8000461\ttest: 1.7760600\tbest: 1.7760600 (53)\ttotal: 564ms\tremaining: 9.88s\n",
      "54:\tlearn: 1.7745718\ttest: 1.7527287\tbest: 1.7527287 (54)\ttotal: 572ms\tremaining: 9.83s\n",
      "55:\tlearn: 1.7490642\ttest: 1.7295987\tbest: 1.7295987 (55)\ttotal: 580ms\tremaining: 9.78s\n",
      "56:\tlearn: 1.7255991\ttest: 1.7088671\tbest: 1.7088671 (56)\ttotal: 589ms\tremaining: 9.74s\n",
      "57:\tlearn: 1.7033507\ttest: 1.6893184\tbest: 1.6893184 (57)\ttotal: 597ms\tremaining: 9.7s\n",
      "58:\tlearn: 1.6818296\ttest: 1.6704396\tbest: 1.6704396 (58)\ttotal: 606ms\tremaining: 9.66s\n",
      "59:\tlearn: 1.6637337\ttest: 1.6545430\tbest: 1.6545430 (59)\ttotal: 614ms\tremaining: 9.62s\n",
      "60:\tlearn: 1.6451664\ttest: 1.6375825\tbest: 1.6375825 (60)\ttotal: 623ms\tremaining: 9.59s\n",
      "61:\tlearn: 1.6285181\ttest: 1.6229653\tbest: 1.6229653 (61)\ttotal: 631ms\tremaining: 9.55s\n",
      "62:\tlearn: 1.6148682\ttest: 1.6111303\tbest: 1.6111303 (62)\ttotal: 641ms\tremaining: 9.54s\n",
      "63:\tlearn: 1.6003865\ttest: 1.5991560\tbest: 1.5991560 (63)\ttotal: 651ms\tremaining: 9.52s\n",
      "64:\tlearn: 1.5885084\ttest: 1.5889077\tbest: 1.5889077 (64)\ttotal: 660ms\tremaining: 9.5s\n",
      "65:\tlearn: 1.5757443\ttest: 1.5784353\tbest: 1.5784353 (65)\ttotal: 669ms\tremaining: 9.46s\n",
      "66:\tlearn: 1.5676787\ttest: 1.5718963\tbest: 1.5718963 (66)\ttotal: 677ms\tremaining: 9.43s\n",
      "67:\tlearn: 1.5570201\ttest: 1.5631423\tbest: 1.5631423 (67)\ttotal: 686ms\tremaining: 9.4s\n",
      "68:\tlearn: 1.5467712\ttest: 1.5546861\tbest: 1.5546861 (68)\ttotal: 694ms\tremaining: 9.37s\n",
      "69:\tlearn: 1.5369008\ttest: 1.5465867\tbest: 1.5465867 (69)\ttotal: 703ms\tremaining: 9.34s\n",
      "70:\tlearn: 1.5307694\ttest: 1.5414862\tbest: 1.5414862 (70)\ttotal: 712ms\tremaining: 9.31s\n",
      "71:\tlearn: 1.5227466\ttest: 1.5350443\tbest: 1.5350443 (71)\ttotal: 721ms\tremaining: 9.3s\n",
      "72:\tlearn: 1.5163768\ttest: 1.5298511\tbest: 1.5298511 (72)\ttotal: 730ms\tremaining: 9.27s\n",
      "73:\tlearn: 1.5116113\ttest: 1.5266737\tbest: 1.5266737 (73)\ttotal: 739ms\tremaining: 9.24s\n",
      "74:\tlearn: 1.5043730\ttest: 1.5207274\tbest: 1.5207274 (74)\ttotal: 748ms\tremaining: 9.22s\n",
      "75:\tlearn: 1.4970555\ttest: 1.5139677\tbest: 1.5139677 (75)\ttotal: 756ms\tremaining: 9.19s\n",
      "76:\tlearn: 1.4919818\ttest: 1.5100905\tbest: 1.5100905 (76)\ttotal: 765ms\tremaining: 9.16s\n",
      "77:\tlearn: 1.4872156\ttest: 1.5066454\tbest: 1.5066454 (77)\ttotal: 774ms\tremaining: 9.14s\n",
      "78:\tlearn: 1.4814173\ttest: 1.5023433\tbest: 1.5023433 (78)\ttotal: 782ms\tremaining: 9.11s\n",
      "79:\tlearn: 1.4770824\ttest: 1.4990927\tbest: 1.4990927 (79)\ttotal: 790ms\tremaining: 9.08s\n",
      "80:\tlearn: 1.4744875\ttest: 1.4974084\tbest: 1.4974084 (80)\ttotal: 798ms\tremaining: 9.06s\n",
      "81:\tlearn: 1.4697284\ttest: 1.4933701\tbest: 1.4933701 (81)\ttotal: 809ms\tremaining: 9.05s\n",
      "82:\tlearn: 1.4663304\ttest: 1.4904160\tbest: 1.4904160 (82)\ttotal: 817ms\tremaining: 9.02s\n",
      "83:\tlearn: 1.4627458\ttest: 1.4878529\tbest: 1.4878529 (83)\ttotal: 826ms\tremaining: 9.01s\n",
      "84:\tlearn: 1.4591346\ttest: 1.4851329\tbest: 1.4851329 (84)\ttotal: 835ms\tremaining: 8.99s\n",
      "85:\tlearn: 1.4566045\ttest: 1.4830592\tbest: 1.4830592 (85)\ttotal: 845ms\tremaining: 8.98s\n",
      "86:\tlearn: 1.4532139\ttest: 1.4804351\tbest: 1.4804351 (86)\ttotal: 854ms\tremaining: 8.96s\n",
      "87:\tlearn: 1.4507954\ttest: 1.4781659\tbest: 1.4781659 (87)\ttotal: 863ms\tremaining: 8.94s\n",
      "88:\tlearn: 1.4496403\ttest: 1.4774476\tbest: 1.4774476 (88)\ttotal: 872ms\tremaining: 8.92s\n",
      "89:\tlearn: 1.4470445\ttest: 1.4753598\tbest: 1.4753598 (89)\ttotal: 880ms\tremaining: 8.9s\n",
      "90:\tlearn: 1.4451536\ttest: 1.4739872\tbest: 1.4739872 (90)\ttotal: 889ms\tremaining: 8.88s\n",
      "91:\tlearn: 1.4428400\ttest: 1.4723371\tbest: 1.4723371 (91)\ttotal: 897ms\tremaining: 8.85s\n",
      "92:\tlearn: 1.4410101\ttest: 1.4709596\tbest: 1.4709596 (92)\ttotal: 907ms\tremaining: 8.84s\n",
      "93:\tlearn: 1.4393862\ttest: 1.4700242\tbest: 1.4700242 (93)\ttotal: 915ms\tremaining: 8.82s\n",
      "94:\tlearn: 1.4377852\ttest: 1.4690454\tbest: 1.4690454 (94)\ttotal: 924ms\tremaining: 8.8s\n",
      "95:\tlearn: 1.4347004\ttest: 1.4664785\tbest: 1.4664785 (95)\ttotal: 932ms\tremaining: 8.78s\n",
      "96:\tlearn: 1.4325481\ttest: 1.4647962\tbest: 1.4647962 (96)\ttotal: 940ms\tremaining: 8.75s\n",
      "97:\tlearn: 1.4308091\ttest: 1.4629388\tbest: 1.4629388 (97)\ttotal: 950ms\tremaining: 8.74s\n",
      "98:\tlearn: 1.4293007\ttest: 1.4616345\tbest: 1.4616345 (98)\ttotal: 958ms\tremaining: 8.72s\n",
      "99:\tlearn: 1.4282292\ttest: 1.4607830\tbest: 1.4607830 (99)\ttotal: 967ms\tremaining: 8.7s\n",
      "100:\tlearn: 1.4260892\ttest: 1.4589543\tbest: 1.4589543 (100)\ttotal: 976ms\tremaining: 8.69s\n",
      "101:\tlearn: 1.4252420\ttest: 1.4583055\tbest: 1.4583055 (101)\ttotal: 985ms\tremaining: 8.67s\n",
      "102:\tlearn: 1.4245542\ttest: 1.4578600\tbest: 1.4578600 (102)\ttotal: 994ms\tremaining: 8.65s\n",
      "103:\tlearn: 1.4228030\ttest: 1.4563107\tbest: 1.4563107 (103)\ttotal: 1s\tremaining: 8.63s\n",
      "104:\tlearn: 1.4214458\ttest: 1.4552128\tbest: 1.4552128 (104)\ttotal: 1.01s\tremaining: 8.61s\n",
      "105:\tlearn: 1.4200391\ttest: 1.4540930\tbest: 1.4540930 (105)\ttotal: 1.02s\tremaining: 8.58s\n",
      "106:\tlearn: 1.4180636\ttest: 1.4521699\tbest: 1.4521699 (106)\ttotal: 1.03s\tremaining: 8.56s\n",
      "107:\tlearn: 1.4166345\ttest: 1.4512643\tbest: 1.4512643 (107)\ttotal: 1.03s\tremaining: 8.54s\n"
     ]
    },
    {
     "name": "stdout",
     "output_type": "stream",
     "text": [
      "108:\tlearn: 1.4153189\ttest: 1.4501832\tbest: 1.4501832 (108)\ttotal: 1.04s\tremaining: 8.54s\n",
      "109:\tlearn: 1.4145864\ttest: 1.4496853\tbest: 1.4496853 (109)\ttotal: 1.05s\tremaining: 8.53s\n",
      "110:\tlearn: 1.4141043\ttest: 1.4492420\tbest: 1.4492420 (110)\ttotal: 1.06s\tremaining: 8.52s\n",
      "111:\tlearn: 1.4121737\ttest: 1.4465620\tbest: 1.4465620 (111)\ttotal: 1.07s\tremaining: 8.5s\n",
      "112:\tlearn: 1.4109942\ttest: 1.4459140\tbest: 1.4459140 (112)\ttotal: 1.08s\tremaining: 8.5s\n",
      "113:\tlearn: 1.4095355\ttest: 1.4448003\tbest: 1.4448003 (113)\ttotal: 1.09s\tremaining: 8.48s\n",
      "114:\tlearn: 1.4087256\ttest: 1.4442854\tbest: 1.4442854 (114)\ttotal: 1.1s\tremaining: 8.46s\n",
      "115:\tlearn: 1.4079735\ttest: 1.4441654\tbest: 1.4441654 (115)\ttotal: 1.11s\tremaining: 8.45s\n",
      "116:\tlearn: 1.4066222\ttest: 1.4429134\tbest: 1.4429134 (116)\ttotal: 1.12s\tremaining: 8.43s\n",
      "117:\tlearn: 1.4054653\ttest: 1.4419661\tbest: 1.4419661 (117)\ttotal: 1.13s\tremaining: 8.42s\n",
      "118:\tlearn: 1.4044787\ttest: 1.4407622\tbest: 1.4407622 (118)\ttotal: 1.13s\tremaining: 8.4s\n",
      "119:\tlearn: 1.4037528\ttest: 1.4403782\tbest: 1.4403782 (119)\ttotal: 1.14s\tremaining: 8.39s\n",
      "120:\tlearn: 1.4024735\ttest: 1.4393016\tbest: 1.4393016 (120)\ttotal: 1.15s\tremaining: 8.38s\n",
      "121:\tlearn: 1.4015522\ttest: 1.4386694\tbest: 1.4386694 (121)\ttotal: 1.16s\tremaining: 8.37s\n",
      "122:\tlearn: 1.4000944\ttest: 1.4368224\tbest: 1.4368224 (122)\ttotal: 1.17s\tremaining: 8.36s\n",
      "123:\tlearn: 1.3983634\ttest: 1.4355184\tbest: 1.4355184 (123)\ttotal: 1.18s\tremaining: 8.34s\n",
      "124:\tlearn: 1.3969917\ttest: 1.4336898\tbest: 1.4336898 (124)\ttotal: 1.19s\tremaining: 8.33s\n",
      "125:\tlearn: 1.3959463\ttest: 1.4325774\tbest: 1.4325774 (125)\ttotal: 1.2s\tremaining: 8.32s\n",
      "126:\tlearn: 1.3953140\ttest: 1.4320557\tbest: 1.4320557 (126)\ttotal: 1.21s\tremaining: 8.3s\n",
      "127:\tlearn: 1.3948083\ttest: 1.4312566\tbest: 1.4312566 (127)\ttotal: 1.22s\tremaining: 8.29s\n",
      "128:\tlearn: 1.3946284\ttest: 1.4311301\tbest: 1.4311301 (128)\ttotal: 1.23s\tremaining: 8.28s\n",
      "129:\tlearn: 1.3943019\ttest: 1.4308648\tbest: 1.4308648 (129)\ttotal: 1.23s\tremaining: 8.26s\n",
      "130:\tlearn: 1.3931773\ttest: 1.4301919\tbest: 1.4301919 (130)\ttotal: 1.25s\tremaining: 8.27s\n",
      "131:\tlearn: 1.3927516\ttest: 1.4298853\tbest: 1.4298853 (131)\ttotal: 1.26s\tremaining: 8.28s\n",
      "132:\tlearn: 1.3924455\ttest: 1.4298784\tbest: 1.4298784 (132)\ttotal: 1.27s\tremaining: 8.29s\n",
      "133:\tlearn: 1.3919576\ttest: 1.4296497\tbest: 1.4296497 (133)\ttotal: 1.29s\tremaining: 8.32s\n",
      "134:\tlearn: 1.3915867\ttest: 1.4293118\tbest: 1.4293118 (134)\ttotal: 1.3s\tremaining: 8.31s\n",
      "135:\tlearn: 1.3906729\ttest: 1.4285473\tbest: 1.4285473 (135)\ttotal: 1.3s\tremaining: 8.29s\n",
      "136:\tlearn: 1.3898811\ttest: 1.4281114\tbest: 1.4281114 (136)\ttotal: 1.31s\tremaining: 8.27s\n",
      "137:\tlearn: 1.3892077\ttest: 1.4274486\tbest: 1.4274486 (137)\ttotal: 1.32s\tremaining: 8.25s\n",
      "138:\tlearn: 1.3891255\ttest: 1.4275264\tbest: 1.4274486 (137)\ttotal: 1.33s\tremaining: 8.24s\n",
      "139:\tlearn: 1.3886708\ttest: 1.4270732\tbest: 1.4270732 (139)\ttotal: 1.34s\tremaining: 8.22s\n",
      "140:\tlearn: 1.3883102\ttest: 1.4267311\tbest: 1.4267311 (140)\ttotal: 1.35s\tremaining: 8.21s\n",
      "141:\tlearn: 1.3877687\ttest: 1.4261492\tbest: 1.4261492 (141)\ttotal: 1.35s\tremaining: 8.19s\n",
      "142:\tlearn: 1.3873041\ttest: 1.4255813\tbest: 1.4255813 (142)\ttotal: 1.36s\tremaining: 8.18s\n",
      "143:\tlearn: 1.3862996\ttest: 1.4239619\tbest: 1.4239619 (143)\ttotal: 1.38s\tremaining: 8.18s\n",
      "144:\tlearn: 1.3859911\ttest: 1.4237870\tbest: 1.4237870 (144)\ttotal: 1.38s\tremaining: 8.16s\n",
      "145:\tlearn: 1.3850461\ttest: 1.4232077\tbest: 1.4232077 (145)\ttotal: 1.39s\tremaining: 8.15s\n",
      "146:\tlearn: 1.3842636\ttest: 1.4220075\tbest: 1.4220075 (146)\ttotal: 1.4s\tremaining: 8.13s\n",
      "147:\tlearn: 1.3838313\ttest: 1.4217974\tbest: 1.4217974 (147)\ttotal: 1.41s\tremaining: 8.12s\n",
      "148:\tlearn: 1.3831547\ttest: 1.4212120\tbest: 1.4212120 (148)\ttotal: 1.42s\tremaining: 8.1s\n",
      "149:\tlearn: 1.3827018\ttest: 1.4204283\tbest: 1.4204283 (149)\ttotal: 1.43s\tremaining: 8.09s\n",
      "150:\tlearn: 1.3820579\ttest: 1.4199206\tbest: 1.4199206 (150)\ttotal: 1.44s\tremaining: 8.08s\n",
      "151:\tlearn: 1.3811319\ttest: 1.4188360\tbest: 1.4188360 (151)\ttotal: 1.45s\tremaining: 8.1s\n",
      "152:\tlearn: 1.3810936\ttest: 1.4188622\tbest: 1.4188360 (151)\ttotal: 1.46s\tremaining: 8.08s\n",
      "153:\tlearn: 1.3803617\ttest: 1.4174840\tbest: 1.4174840 (153)\ttotal: 1.47s\tremaining: 8.07s\n",
      "154:\tlearn: 1.3796861\ttest: 1.4166761\tbest: 1.4166761 (154)\ttotal: 1.48s\tremaining: 8.06s\n",
      "155:\tlearn: 1.3796155\ttest: 1.4167185\tbest: 1.4166761 (154)\ttotal: 1.49s\tremaining: 8.04s\n",
      "156:\tlearn: 1.3795022\ttest: 1.4167592\tbest: 1.4166761 (154)\ttotal: 1.5s\tremaining: 8.03s\n",
      "157:\tlearn: 1.3790195\ttest: 1.4164197\tbest: 1.4164197 (157)\ttotal: 1.5s\tremaining: 8.01s\n",
      "158:\tlearn: 1.3784995\ttest: 1.4159200\tbest: 1.4159200 (158)\ttotal: 1.51s\tremaining: 8.01s\n",
      "159:\tlearn: 1.3777574\ttest: 1.4153778\tbest: 1.4153778 (159)\ttotal: 1.52s\tremaining: 8s\n",
      "160:\tlearn: 1.3773955\ttest: 1.4149618\tbest: 1.4149618 (160)\ttotal: 1.53s\tremaining: 7.98s\n",
      "161:\tlearn: 1.3773110\ttest: 1.4149623\tbest: 1.4149618 (160)\ttotal: 1.54s\tremaining: 7.97s\n",
      "162:\tlearn: 1.3768286\ttest: 1.4146333\tbest: 1.4146333 (162)\ttotal: 1.55s\tremaining: 7.96s\n",
      "163:\tlearn: 1.3764453\ttest: 1.4140032\tbest: 1.4140032 (163)\ttotal: 1.56s\tremaining: 7.94s\n",
      "164:\tlearn: 1.3760648\ttest: 1.4137790\tbest: 1.4137790 (164)\ttotal: 1.57s\tremaining: 7.93s\n",
      "165:\tlearn: 1.3757391\ttest: 1.4134107\tbest: 1.4134107 (165)\ttotal: 1.57s\tremaining: 7.91s\n",
      "166:\tlearn: 1.3751936\ttest: 1.4126782\tbest: 1.4126782 (166)\ttotal: 1.58s\tremaining: 7.9s\n",
      "167:\tlearn: 1.3747459\ttest: 1.4122517\tbest: 1.4122517 (167)\ttotal: 1.59s\tremaining: 7.89s\n",
      "168:\tlearn: 1.3743462\ttest: 1.4120836\tbest: 1.4120836 (168)\ttotal: 1.6s\tremaining: 7.87s\n",
      "169:\tlearn: 1.3740273\ttest: 1.4119275\tbest: 1.4119275 (169)\ttotal: 1.61s\tremaining: 7.86s\n",
      "170:\tlearn: 1.3734220\ttest: 1.4114175\tbest: 1.4114175 (170)\ttotal: 1.62s\tremaining: 7.84s\n",
      "171:\tlearn: 1.3727350\ttest: 1.4107823\tbest: 1.4107823 (171)\ttotal: 1.63s\tremaining: 7.82s\n",
      "172:\tlearn: 1.3714789\ttest: 1.4097035\tbest: 1.4097035 (172)\ttotal: 1.64s\tremaining: 7.82s\n",
      "173:\tlearn: 1.3705784\ttest: 1.4087382\tbest: 1.4087382 (173)\ttotal: 1.65s\tremaining: 7.82s\n",
      "174:\tlearn: 1.3697958\ttest: 1.4074879\tbest: 1.4074879 (174)\ttotal: 1.66s\tremaining: 7.81s\n",
      "175:\tlearn: 1.3696932\ttest: 1.4073988\tbest: 1.4073988 (175)\ttotal: 1.67s\tremaining: 7.8s\n",
      "176:\tlearn: 1.3696220\ttest: 1.4074589\tbest: 1.4073988 (175)\ttotal: 1.68s\tremaining: 7.8s\n",
      "177:\tlearn: 1.3695123\ttest: 1.4073472\tbest: 1.4073472 (177)\ttotal: 1.69s\tremaining: 7.79s\n",
      "178:\tlearn: 1.3690188\ttest: 1.4070295\tbest: 1.4070295 (178)\ttotal: 1.69s\tremaining: 7.77s\n",
      "179:\tlearn: 1.3685669\ttest: 1.4067668\tbest: 1.4067668 (179)\ttotal: 1.7s\tremaining: 7.76s\n",
      "180:\tlearn: 1.3681892\ttest: 1.4068408\tbest: 1.4067668 (179)\ttotal: 1.71s\tremaining: 7.75s\n",
      "181:\tlearn: 1.3675529\ttest: 1.4064032\tbest: 1.4064032 (181)\ttotal: 1.72s\tremaining: 7.74s\n",
      "182:\tlearn: 1.3669581\ttest: 1.4058526\tbest: 1.4058526 (182)\ttotal: 1.73s\tremaining: 7.73s\n",
      "183:\tlearn: 1.3663225\ttest: 1.4054180\tbest: 1.4054180 (183)\ttotal: 1.74s\tremaining: 7.72s\n",
      "184:\tlearn: 1.3659067\ttest: 1.4051392\tbest: 1.4051392 (184)\ttotal: 1.75s\tremaining: 7.7s\n",
      "185:\tlearn: 1.3655203\ttest: 1.4048858\tbest: 1.4048858 (185)\ttotal: 1.76s\tremaining: 7.69s\n",
      "186:\tlearn: 1.3647505\ttest: 1.4046193\tbest: 1.4046193 (186)\ttotal: 1.77s\tremaining: 7.68s\n",
      "187:\tlearn: 1.3646685\ttest: 1.4046967\tbest: 1.4046193 (186)\ttotal: 1.78s\tremaining: 7.67s\n",
      "188:\tlearn: 1.3642545\ttest: 1.4044796\tbest: 1.4044796 (188)\ttotal: 1.78s\tremaining: 7.66s\n",
      "189:\tlearn: 1.3632955\ttest: 1.4040081\tbest: 1.4040081 (189)\ttotal: 1.79s\tremaining: 7.64s\n",
      "190:\tlearn: 1.3626411\ttest: 1.4039240\tbest: 1.4039240 (190)\ttotal: 1.8s\tremaining: 7.63s\n",
      "191:\tlearn: 1.3621282\ttest: 1.4034326\tbest: 1.4034326 (191)\ttotal: 1.81s\tremaining: 7.62s\n",
      "192:\tlearn: 1.3613918\ttest: 1.4023091\tbest: 1.4023091 (192)\ttotal: 1.82s\tremaining: 7.61s\n",
      "193:\tlearn: 1.3610353\ttest: 1.4020008\tbest: 1.4020008 (193)\ttotal: 1.83s\tremaining: 7.6s\n",
      "194:\tlearn: 1.3601417\ttest: 1.4011987\tbest: 1.4011987 (194)\ttotal: 1.84s\tremaining: 7.58s\n",
      "195:\tlearn: 1.3595614\ttest: 1.4007142\tbest: 1.4007142 (195)\ttotal: 1.85s\tremaining: 7.58s\n",
      "196:\tlearn: 1.3591793\ttest: 1.4002922\tbest: 1.4002922 (196)\ttotal: 1.86s\tremaining: 7.57s\n",
      "197:\tlearn: 1.3588100\ttest: 1.4004765\tbest: 1.4002922 (196)\ttotal: 1.87s\tremaining: 7.56s\n",
      "198:\tlearn: 1.3587178\ttest: 1.4005242\tbest: 1.4002922 (196)\ttotal: 1.88s\tremaining: 7.55s\n",
      "199:\tlearn: 1.3586052\ttest: 1.4005413\tbest: 1.4002922 (196)\ttotal: 1.89s\tremaining: 7.54s\n",
      "200:\tlearn: 1.3582527\ttest: 1.4004934\tbest: 1.4002922 (196)\ttotal: 1.9s\tremaining: 7.54s\n",
      "201:\tlearn: 1.3579623\ttest: 1.4001030\tbest: 1.4001030 (201)\ttotal: 1.9s\tremaining: 7.52s\n",
      "202:\tlearn: 1.3576850\ttest: 1.3998505\tbest: 1.3998505 (202)\ttotal: 1.91s\tremaining: 7.51s\n",
      "203:\tlearn: 1.3573745\ttest: 1.3993373\tbest: 1.3993373 (203)\ttotal: 1.92s\tremaining: 7.5s\n",
      "204:\tlearn: 1.3573205\ttest: 1.3994034\tbest: 1.3993373 (203)\ttotal: 1.93s\tremaining: 7.49s\n",
      "205:\tlearn: 1.3566636\ttest: 1.3991655\tbest: 1.3991655 (205)\ttotal: 1.94s\tremaining: 7.47s\n",
      "206:\tlearn: 1.3561902\ttest: 1.3987824\tbest: 1.3987824 (206)\ttotal: 1.95s\tremaining: 7.46s\n",
      "207:\tlearn: 1.3558200\ttest: 1.3983618\tbest: 1.3983618 (207)\ttotal: 1.96s\tremaining: 7.45s\n",
      "208:\tlearn: 1.3557981\ttest: 1.3983469\tbest: 1.3983469 (208)\ttotal: 1.96s\tremaining: 7.43s\n",
      "209:\tlearn: 1.3552820\ttest: 1.3978500\tbest: 1.3978500 (209)\ttotal: 1.97s\tremaining: 7.42s\n",
      "210:\tlearn: 1.3547469\ttest: 1.3970715\tbest: 1.3970715 (210)\ttotal: 1.98s\tremaining: 7.41s\n",
      "211:\tlearn: 1.3542163\ttest: 1.3965641\tbest: 1.3965641 (211)\ttotal: 1.99s\tremaining: 7.4s\n",
      "212:\tlearn: 1.3538898\ttest: 1.3963746\tbest: 1.3963746 (212)\ttotal: 2s\tremaining: 7.38s\n",
      "213:\tlearn: 1.3537069\ttest: 1.3963362\tbest: 1.3963362 (213)\ttotal: 2.01s\tremaining: 7.38s\n",
      "214:\tlearn: 1.3536542\ttest: 1.3963388\tbest: 1.3963362 (213)\ttotal: 2.02s\tremaining: 7.37s\n",
      "215:\tlearn: 1.3532299\ttest: 1.3958645\tbest: 1.3958645 (215)\ttotal: 2.03s\tremaining: 7.36s\n",
      "216:\tlearn: 1.3529837\ttest: 1.3959520\tbest: 1.3958645 (215)\ttotal: 2.04s\tremaining: 7.34s\n"
     ]
    },
    {
     "name": "stdout",
     "output_type": "stream",
     "text": [
      "217:\tlearn: 1.3528324\ttest: 1.3960279\tbest: 1.3958645 (215)\ttotal: 2.05s\tremaining: 7.34s\n",
      "218:\tlearn: 1.3525053\ttest: 1.3960725\tbest: 1.3958645 (215)\ttotal: 2.06s\tremaining: 7.33s\n",
      "219:\tlearn: 1.3521964\ttest: 1.3957727\tbest: 1.3957727 (219)\ttotal: 2.07s\tremaining: 7.33s\n",
      "220:\tlearn: 1.3520603\ttest: 1.3957229\tbest: 1.3957229 (220)\ttotal: 2.08s\tremaining: 7.32s\n",
      "221:\tlearn: 1.3516255\ttest: 1.3954805\tbest: 1.3954805 (221)\ttotal: 2.09s\tremaining: 7.32s\n",
      "222:\tlearn: 1.3510398\ttest: 1.3949635\tbest: 1.3949635 (222)\ttotal: 2.1s\tremaining: 7.31s\n",
      "223:\tlearn: 1.3503802\ttest: 1.3945285\tbest: 1.3945285 (223)\ttotal: 2.11s\tremaining: 7.32s\n",
      "224:\tlearn: 1.3500656\ttest: 1.3943894\tbest: 1.3943894 (224)\ttotal: 2.12s\tremaining: 7.31s\n",
      "225:\tlearn: 1.3495383\ttest: 1.3942717\tbest: 1.3942717 (225)\ttotal: 2.13s\tremaining: 7.3s\n",
      "226:\tlearn: 1.3491996\ttest: 1.3940334\tbest: 1.3940334 (226)\ttotal: 2.14s\tremaining: 7.29s\n",
      "227:\tlearn: 1.3489666\ttest: 1.3940903\tbest: 1.3940334 (226)\ttotal: 2.15s\tremaining: 7.28s\n",
      "228:\tlearn: 1.3486663\ttest: 1.3939395\tbest: 1.3939395 (228)\ttotal: 2.16s\tremaining: 7.26s\n",
      "229:\tlearn: 1.3482989\ttest: 1.3936992\tbest: 1.3936992 (229)\ttotal: 2.17s\tremaining: 7.25s\n",
      "230:\tlearn: 1.3477517\ttest: 1.3931935\tbest: 1.3931935 (230)\ttotal: 2.18s\tremaining: 7.24s\n",
      "231:\tlearn: 1.3472691\ttest: 1.3928779\tbest: 1.3928779 (231)\ttotal: 2.19s\tremaining: 7.24s\n",
      "232:\tlearn: 1.3467223\ttest: 1.3922579\tbest: 1.3922579 (232)\ttotal: 2.19s\tremaining: 7.22s\n",
      "233:\tlearn: 1.3465816\ttest: 1.3920867\tbest: 1.3920867 (233)\ttotal: 2.2s\tremaining: 7.21s\n",
      "234:\tlearn: 1.3463547\ttest: 1.3918206\tbest: 1.3918206 (234)\ttotal: 2.21s\tremaining: 7.2s\n",
      "235:\tlearn: 1.3459455\ttest: 1.3915975\tbest: 1.3915975 (235)\ttotal: 2.22s\tremaining: 7.19s\n",
      "236:\tlearn: 1.3451236\ttest: 1.3910388\tbest: 1.3910388 (236)\ttotal: 2.23s\tremaining: 7.18s\n",
      "237:\tlearn: 1.3445635\ttest: 1.3908366\tbest: 1.3908366 (237)\ttotal: 2.24s\tremaining: 7.17s\n",
      "238:\tlearn: 1.3441609\ttest: 1.3901405\tbest: 1.3901405 (238)\ttotal: 2.25s\tremaining: 7.16s\n",
      "239:\tlearn: 1.3441258\ttest: 1.3901393\tbest: 1.3901393 (239)\ttotal: 2.26s\tremaining: 7.15s\n",
      "240:\tlearn: 1.3439976\ttest: 1.3901138\tbest: 1.3901138 (240)\ttotal: 2.27s\tremaining: 7.14s\n",
      "241:\tlearn: 1.3436875\ttest: 1.3899411\tbest: 1.3899411 (241)\ttotal: 2.27s\tremaining: 7.13s\n",
      "242:\tlearn: 1.3434263\ttest: 1.3897278\tbest: 1.3897278 (242)\ttotal: 2.28s\tremaining: 7.12s\n",
      "243:\tlearn: 1.3433280\ttest: 1.3896682\tbest: 1.3896682 (243)\ttotal: 2.29s\tremaining: 7.11s\n",
      "244:\tlearn: 1.3429986\ttest: 1.3896300\tbest: 1.3896300 (244)\ttotal: 2.3s\tremaining: 7.1s\n",
      "245:\tlearn: 1.3426630\ttest: 1.3895753\tbest: 1.3895753 (245)\ttotal: 2.31s\tremaining: 7.08s\n",
      "246:\tlearn: 1.3425437\ttest: 1.3892805\tbest: 1.3892805 (246)\ttotal: 2.32s\tremaining: 7.07s\n",
      "247:\tlearn: 1.3425339\ttest: 1.3892993\tbest: 1.3892805 (246)\ttotal: 2.33s\tremaining: 7.06s\n",
      "248:\tlearn: 1.3424551\ttest: 1.3893478\tbest: 1.3892805 (246)\ttotal: 2.34s\tremaining: 7.05s\n",
      "249:\tlearn: 1.3422749\ttest: 1.3891154\tbest: 1.3891154 (249)\ttotal: 2.35s\tremaining: 7.04s\n",
      "250:\tlearn: 1.3419392\ttest: 1.3891143\tbest: 1.3891143 (250)\ttotal: 2.35s\tremaining: 7.02s\n",
      "251:\tlearn: 1.3415542\ttest: 1.3888577\tbest: 1.3888577 (251)\ttotal: 2.36s\tremaining: 7.01s\n",
      "252:\tlearn: 1.3410795\ttest: 1.3885745\tbest: 1.3885745 (252)\ttotal: 2.37s\tremaining: 7.01s\n",
      "253:\tlearn: 1.3410377\ttest: 1.3886232\tbest: 1.3885745 (252)\ttotal: 2.38s\tremaining: 7s\n",
      "254:\tlearn: 1.3409388\ttest: 1.3886481\tbest: 1.3885745 (252)\ttotal: 2.39s\tremaining: 6.99s\n",
      "255:\tlearn: 1.3407257\ttest: 1.3884066\tbest: 1.3884066 (255)\ttotal: 2.4s\tremaining: 6.97s\n",
      "256:\tlearn: 1.3405441\ttest: 1.3883626\tbest: 1.3883626 (256)\ttotal: 2.41s\tremaining: 6.97s\n",
      "257:\tlearn: 1.3404464\ttest: 1.3883662\tbest: 1.3883626 (256)\ttotal: 2.42s\tremaining: 6.96s\n",
      "258:\tlearn: 1.3399684\ttest: 1.3880598\tbest: 1.3880598 (258)\ttotal: 2.43s\tremaining: 6.94s\n",
      "259:\tlearn: 1.3395583\ttest: 1.3879710\tbest: 1.3879710 (259)\ttotal: 2.44s\tremaining: 6.94s\n",
      "260:\tlearn: 1.3393416\ttest: 1.3879826\tbest: 1.3879710 (259)\ttotal: 2.45s\tremaining: 6.93s\n",
      "261:\tlearn: 1.3391724\ttest: 1.3878992\tbest: 1.3878992 (261)\ttotal: 2.45s\tremaining: 6.91s\n",
      "262:\tlearn: 1.3388394\ttest: 1.3880985\tbest: 1.3878992 (261)\ttotal: 2.46s\tremaining: 6.9s\n",
      "263:\tlearn: 1.3385385\ttest: 1.3877177\tbest: 1.3877177 (263)\ttotal: 2.47s\tremaining: 6.89s\n",
      "264:\tlearn: 1.3384308\ttest: 1.3877038\tbest: 1.3877038 (264)\ttotal: 2.48s\tremaining: 6.88s\n",
      "265:\tlearn: 1.3380392\ttest: 1.3876059\tbest: 1.3876059 (265)\ttotal: 2.49s\tremaining: 6.87s\n",
      "266:\tlearn: 1.3379003\ttest: 1.3876426\tbest: 1.3876059 (265)\ttotal: 2.5s\tremaining: 6.85s\n",
      "267:\tlearn: 1.3377691\ttest: 1.3876373\tbest: 1.3876059 (265)\ttotal: 2.5s\tremaining: 6.84s\n",
      "268:\tlearn: 1.3375100\ttest: 1.3873268\tbest: 1.3873268 (268)\ttotal: 2.51s\tremaining: 6.83s\n",
      "269:\tlearn: 1.3373745\ttest: 1.3873084\tbest: 1.3873084 (269)\ttotal: 2.52s\tremaining: 6.82s\n",
      "270:\tlearn: 1.3372160\ttest: 1.3872709\tbest: 1.3872709 (270)\ttotal: 2.53s\tremaining: 6.81s\n",
      "271:\tlearn: 1.3371195\ttest: 1.3872442\tbest: 1.3872442 (271)\ttotal: 2.54s\tremaining: 6.8s\n",
      "272:\tlearn: 1.3368962\ttest: 1.3867370\tbest: 1.3867370 (272)\ttotal: 2.55s\tremaining: 6.8s\n",
      "273:\tlearn: 1.3365488\ttest: 1.3866017\tbest: 1.3866017 (273)\ttotal: 2.56s\tremaining: 6.79s\n",
      "274:\tlearn: 1.3364862\ttest: 1.3866092\tbest: 1.3866017 (273)\ttotal: 2.57s\tremaining: 6.78s\n",
      "275:\tlearn: 1.3363742\ttest: 1.3866355\tbest: 1.3866017 (273)\ttotal: 2.58s\tremaining: 6.77s\n",
      "276:\tlearn: 1.3363118\ttest: 1.3866292\tbest: 1.3866017 (273)\ttotal: 2.59s\tremaining: 6.76s\n",
      "277:\tlearn: 1.3359274\ttest: 1.3863805\tbest: 1.3863805 (277)\ttotal: 2.6s\tremaining: 6.75s\n",
      "278:\tlearn: 1.3359088\ttest: 1.3863604\tbest: 1.3863604 (278)\ttotal: 2.61s\tremaining: 6.74s\n",
      "279:\tlearn: 1.3356511\ttest: 1.3862024\tbest: 1.3862024 (279)\ttotal: 2.62s\tremaining: 6.72s\n",
      "280:\tlearn: 1.3349534\ttest: 1.3856483\tbest: 1.3856483 (280)\ttotal: 2.62s\tremaining: 6.71s\n",
      "281:\tlearn: 1.3346624\ttest: 1.3854498\tbest: 1.3854498 (281)\ttotal: 2.64s\tremaining: 6.71s\n",
      "282:\tlearn: 1.3345958\ttest: 1.3854249\tbest: 1.3854249 (282)\ttotal: 2.65s\tremaining: 6.71s\n",
      "283:\tlearn: 1.3342340\ttest: 1.3855528\tbest: 1.3854249 (282)\ttotal: 2.65s\tremaining: 6.69s\n",
      "284:\tlearn: 1.3339635\ttest: 1.3854874\tbest: 1.3854249 (282)\ttotal: 2.66s\tremaining: 6.68s\n",
      "285:\tlearn: 1.3336688\ttest: 1.3853468\tbest: 1.3853468 (285)\ttotal: 2.67s\tremaining: 6.67s\n",
      "286:\tlearn: 1.3333719\ttest: 1.3855549\tbest: 1.3853468 (285)\ttotal: 2.68s\tremaining: 6.67s\n",
      "287:\tlearn: 1.3330879\ttest: 1.3855951\tbest: 1.3853468 (285)\ttotal: 2.69s\tremaining: 6.66s\n",
      "288:\tlearn: 1.3329104\ttest: 1.3855387\tbest: 1.3853468 (285)\ttotal: 2.7s\tremaining: 6.65s\n",
      "289:\tlearn: 1.3328365\ttest: 1.3856154\tbest: 1.3853468 (285)\ttotal: 2.71s\tremaining: 6.64s\n",
      "290:\tlearn: 1.3327504\ttest: 1.3856805\tbest: 1.3853468 (285)\ttotal: 2.72s\tremaining: 6.63s\n",
      "291:\tlearn: 1.3324260\ttest: 1.3857523\tbest: 1.3853468 (285)\ttotal: 2.73s\tremaining: 6.62s\n",
      "292:\tlearn: 1.3323047\ttest: 1.3857833\tbest: 1.3853468 (285)\ttotal: 2.74s\tremaining: 6.6s\n",
      "293:\tlearn: 1.3321519\ttest: 1.3854737\tbest: 1.3853468 (285)\ttotal: 2.75s\tremaining: 6.59s\n",
      "294:\tlearn: 1.3320210\ttest: 1.3853849\tbest: 1.3853468 (285)\ttotal: 2.75s\tremaining: 6.58s\n",
      "295:\tlearn: 1.3316631\ttest: 1.3852267\tbest: 1.3852267 (295)\ttotal: 2.76s\tremaining: 6.57s\n",
      "296:\tlearn: 1.3313821\ttest: 1.3851194\tbest: 1.3851194 (296)\ttotal: 2.77s\tremaining: 6.56s\n",
      "297:\tlearn: 1.3312338\ttest: 1.3853459\tbest: 1.3851194 (296)\ttotal: 2.78s\tremaining: 6.55s\n",
      "298:\tlearn: 1.3311735\ttest: 1.3853225\tbest: 1.3851194 (296)\ttotal: 2.79s\tremaining: 6.54s\n",
      "299:\tlearn: 1.3309011\ttest: 1.3855366\tbest: 1.3851194 (296)\ttotal: 2.8s\tremaining: 6.53s\n",
      "300:\tlearn: 1.3308338\ttest: 1.3856213\tbest: 1.3851194 (296)\ttotal: 2.81s\tremaining: 6.52s\n",
      "301:\tlearn: 1.3304202\ttest: 1.3858421\tbest: 1.3851194 (296)\ttotal: 2.81s\tremaining: 6.51s\n",
      "302:\tlearn: 1.3301989\ttest: 1.3857417\tbest: 1.3851194 (296)\ttotal: 2.83s\tremaining: 6.5s\n",
      "303:\tlearn: 1.3301101\ttest: 1.3855426\tbest: 1.3851194 (296)\ttotal: 2.84s\tremaining: 6.5s\n",
      "304:\tlearn: 1.3296963\ttest: 1.3855412\tbest: 1.3851194 (296)\ttotal: 2.85s\tremaining: 6.49s\n",
      "305:\tlearn: 1.3296233\ttest: 1.3854525\tbest: 1.3851194 (296)\ttotal: 2.86s\tremaining: 6.48s\n",
      "306:\tlearn: 1.3295249\ttest: 1.3854948\tbest: 1.3851194 (296)\ttotal: 2.87s\tremaining: 6.48s\n",
      "Stopped by overfitting detector  (10 iterations wait)\n",
      "\n",
      "bestTest = 1.385119375\n",
      "bestIteration = 296\n",
      "\n",
      "Shrink model to first 297 iterations.\n"
     ]
    },
    {
     "data": {
      "text/plain": [
       "<catboost.core.CatBoostRegressor at 0xe8e8910>"
      ]
     },
     "execution_count": 22,
     "metadata": {},
     "output_type": "execute_result"
    }
   ],
   "source": [
    "# Catboost\n",
    "cat_trn = cat.Pool(x_trn, np.log1p(y_trn))\n",
    "cat_val = cat.Pool(x_val, np.log1p(y_val))\n",
    "\n",
    "# catboost param\n",
    "# https://tech.yandex.com/catboost/doc/dg/concepts/python-reference_parameters-list-docpage/#python-reference_parameters-list\n",
    "params = {\n",
    "    'iterations': 1000,\n",
    "    'depth': 2,\n",
    "    'learning_rate': 0.05,\n",
    "    'loss_function': 'RMSE',\n",
    "    'random_seed': 2018,\n",
    "}\n",
    "\n",
    "# train\n",
    "model = cat.CatBoostRegressor(**params)\n",
    "model.fit(cat_trn, eval_set=cat_val, early_stopping_rounds=10)"
   ]
  },
  {
   "cell_type": "code",
   "execution_count": 23,
   "metadata": {},
   "outputs": [],
   "source": [
    "# make prediction\n",
    "cat_tst = cat.Pool(tst)\n",
    "tst_pred = model.predict(cat_tst)\n",
    "tst_subm = pd.DataFrame({'ID': tst_id, 'target': np.exp(tst_pred) - 1 })\n",
    "fname = 'cat.1000feat_statFeats'\n",
    "tst_subm.to_csv(fname, index=False)\n",
    "submit_kaggle_result(comp_name, fname, msg='')\n",
    "check_kaggle_result(comp_name, fname)"
   ]
  },
  {
   "cell_type": "code",
   "execution_count": null,
   "metadata": {
    "collapsed": true
   },
   "outputs": [],
   "source": []
  },
  {
   "cell_type": "markdown",
   "metadata": {
    "collapsed": true
   },
   "source": [
    "## Ensemble"
   ]
  },
  {
   "cell_type": "code",
   "execution_count": 24,
   "metadata": {},
   "outputs": [],
   "source": [
    "# simple average\n",
    "cat_sub = pd.read_csv('cat.1000feat_statFeats')\n",
    "xgb_sub = pd.read_csv('xgb.1000feat_statFeats')\n",
    "lgb_sub = pd.read_csv('lgbm.1000feat_statFeats')\n",
    "\n",
    "subm = cat_sub.copy()\n",
    "subm.target = (cat_sub.target + xgb_sub.target + lgb_sub.target) / 3\n",
    "\n",
    "fname = 'cat_xgb_lgb_avg.1000feat_statFeats'\n",
    "subm.to_csv(fname, index=False)\n",
    "submit_kaggle_result(comp_name, fname, msg='')\n",
    "check_kaggle_result(comp_name, fname)"
   ]
  },
  {
   "cell_type": "code",
   "execution_count": 25,
   "metadata": {},
   "outputs": [
    {
     "data": {
      "text/plain": [
       "(1.0363827466432083, 1.3394552165231157)"
      ]
     },
     "execution_count": 25,
     "metadata": {},
     "output_type": "execute_result"
    }
   ],
   "source": [
    "# get train-valid loss for ensemble\n",
    "cat_trn_pred = model.predict(cat_trn)\n",
    "xgb_trn_pred = bst.predict(xgb_train)\n",
    "lgb_trn_pred = gbm.predict(x_trn, num_iteration=gbm.best_iteration)\n",
    "\n",
    "cat_val_pred = model.predict(cat_val)\n",
    "xgb_val_pred = bst.predict(xgb_eval)\n",
    "lgb_val_pred = gbm.predict(x_val, num_iteration=gbm.best_iteration)\n",
    "\n",
    "trn_pred = (cat_trn_pred + xgb_trn_pred + lgb_trn_pred) / 3\n",
    "val_pred = (cat_val_pred + xgb_val_pred + lgb_val_pred) / 3\n",
    "\n",
    "rmsle(y_trn, np.expm1(trn_pred)), rmsle(y_val, np.expm1(val_pred))"
   ]
  }
 ],
 "metadata": {
  "kernelspec": {
   "display_name": "Python 2",
   "language": "python",
   "name": "python2"
  },
  "language_info": {
   "codemirror_mode": {
    "name": "ipython",
    "version": 2
   },
   "file_extension": ".py",
   "mimetype": "text/x-python",
   "name": "python",
   "nbconvert_exporter": "python",
   "pygments_lexer": "ipython2",
   "version": "2.7.5"
  }
 },
 "nbformat": 4,
 "nbformat_minor": 2
}
