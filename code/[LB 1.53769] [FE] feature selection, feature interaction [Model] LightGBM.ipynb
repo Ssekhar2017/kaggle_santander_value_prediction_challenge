{
 "cells": [
  {
   "cell_type": "code",
   "execution_count": 1,
   "metadata": {
    "collapsed": true
   },
   "outputs": [],
   "source": [
    "import numpy as np\n",
    "import pandas as pd\n",
    "from tools import *\n",
    "from sklearn.model_selection import train_test_split\n",
    "from sklearn.ensemble import RandomForestRegressor\n",
    "\n",
    "import matplotlib\n",
    "%matplotlib inline"
   ]
  },
  {
   "cell_type": "code",
   "execution_count": 2,
   "metadata": {
    "collapsed": true
   },
   "outputs": [],
   "source": [
    "comp_name = 'santander-value-prediction-challenge'\n",
    "train_path = '../data/train.csv'\n",
    "test_path = '../data/test.csv'"
   ]
  },
  {
   "cell_type": "code",
   "execution_count": 3,
   "metadata": {
    "collapsed": true
   },
   "outputs": [],
   "source": [
    "trn = pd.read_csv(train_path)\n",
    "tst = pd.read_csv(test_path)"
   ]
  },
  {
   "cell_type": "code",
   "execution_count": null,
   "metadata": {
    "collapsed": true
   },
   "outputs": [],
   "source": []
  },
  {
   "cell_type": "code",
   "execution_count": 4,
   "metadata": {
    "collapsed": true
   },
   "outputs": [],
   "source": [
    "drop_cols = ['ID', 'target']\n",
    "X = trn.drop(drop_cols, axis=1)\n",
    "y = trn.target.values.astype(np.int32)\n",
    "\n",
    "x_trn, x_val, y_trn, y_val = train_test_split(X, y, test_size=0.2, random_state=2018)"
   ]
  },
  {
   "cell_type": "code",
   "execution_count": null,
   "metadata": {
    "collapsed": true
   },
   "outputs": [],
   "source": []
  },
  {
   "cell_type": "code",
   "execution_count": 5,
   "metadata": {},
   "outputs": [
    {
     "name": "stdout",
     "output_type": "stream",
     "text": [
      "CPU times: user 18.2 s, sys: 156 ms, total: 18.4 s\n",
      "Wall time: 2.32 s\n"
     ]
    },
    {
     "data": {
      "text/plain": [
       "RandomForestRegressor(bootstrap=True, criterion='mse', max_depth=10,\n",
       "           max_features='auto', max_leaf_nodes=None,\n",
       "           min_impurity_split=1e-07, min_samples_leaf=10,\n",
       "           min_samples_split=2, min_weight_fraction_leaf=0.0,\n",
       "           n_estimators=20, n_jobs=-1, oob_score=True, random_state=2018,\n",
       "           verbose=0, warm_start=False)"
      ]
     },
     "execution_count": 5,
     "metadata": {},
     "output_type": "execute_result"
    }
   ],
   "source": [
    "model = RandomForestRegressor(n_estimators=20, oob_score=True, \n",
    "                              max_depth=10, min_samples_leaf=10, \n",
    "                              random_state=2018, n_jobs=-1)\n",
    "%time model.fit(x_trn, y_trn)"
   ]
  },
  {
   "cell_type": "code",
   "execution_count": null,
   "metadata": {
    "collapsed": true
   },
   "outputs": [],
   "source": []
  },
  {
   "cell_type": "code",
   "execution_count": 6,
   "metadata": {},
   "outputs": [
    {
     "name": "stdout",
     "output_type": "stream",
     "text": [
      "# trn loss : 1.86302689495\n",
      "# val loss : 1.99915397023\n",
      "# trn R2 : 0.349567050331\n",
      "# val R2 : 0.292105707347\n",
      "# OOB_score : 0.178236166967\n"
     ]
    }
   ],
   "source": [
    "evaluate(model, x_trn, y_trn, x_val, y_val, rmsle)"
   ]
  },
  {
   "cell_type": "code",
   "execution_count": null,
   "metadata": {
    "collapsed": true
   },
   "outputs": [],
   "source": []
  },
  {
   "cell_type": "code",
   "execution_count": 7,
   "metadata": {
    "collapsed": true
   },
   "outputs": [],
   "source": [
    "feature_imp = pd.DataFrame({'col': x_trn.columns.tolist(),\n",
    "                            'imp': model.feature_importances_})\n",
    "feature_imp.sort_values(by='imp', ascending=False, inplace=True)"
   ]
  },
  {
   "cell_type": "code",
   "execution_count": 8,
   "metadata": {},
   "outputs": [
    {
     "data": {
      "text/plain": [
       "<matplotlib.axes._subplots.AxesSubplot at 0x133a1310>"
      ]
     },
     "execution_count": 8,
     "metadata": {},
     "output_type": "execute_result"
    },
    {
     "data": {
      "image/png": "[encoded data removed]",
      "text/plain": [
       "<matplotlib.figure.Figure at 0x7f309b3d9b50>"
      ]
     },
     "metadata": {},
     "output_type": "display_data"
    }
   ],
   "source": [
    "feature_imp[feature_imp.imp > 0].plot('col', 'imp')"
   ]
  },
  {
   "cell_type": "code",
   "execution_count": null,
   "metadata": {
    "collapsed": true
   },
   "outputs": [],
   "source": []
  },
  {
   "cell_type": "code",
   "execution_count": 9,
   "metadata": {},
   "outputs": [
    {
     "name": "stdout",
     "output_type": "stream",
     "text": [
      "CPU times: user 2.3 s, sys: 127 ms, total: 2.43 s\n",
      "Wall time: 275 ms\n",
      "# trn loss : 1.86302689495\n",
      "# val loss : 1.99915397023\n",
      "# trn R2 : 0.349567050331\n",
      "# val R2 : 0.292105707347\n",
      "# OOB_score : 0.178236166967\n"
     ]
    }
   ],
   "source": [
    "# 261 cols\n",
    "keep_cols = feature_imp[feature_imp.imp > 0].col.values.tolist()\n",
    "x_trn, x_val, y_trn, y_val = train_test_split(X[keep_cols], y, test_size=0.2, random_state=2018)\n",
    "%time model.fit(x_trn, y_trn)\n",
    "evaluate(model, x_trn, y_trn, x_val, y_val, rmsle)"
   ]
  },
  {
   "cell_type": "code",
   "execution_count": null,
   "metadata": {
    "collapsed": true
   },
   "outputs": [],
   "source": []
  },
  {
   "cell_type": "code",
   "execution_count": 10,
   "metadata": {},
   "outputs": [
    {
     "name": "stdout",
     "output_type": "stream",
     "text": [
      "CPU times: user 276 ms, sys: 7.58 ms, total: 284 ms\n",
      "Wall time: 188 ms\n",
      "# trn loss : 1.81737510511\n",
      "# val loss : 1.94082404581\n",
      "# trn R2 : 0.33386114906\n",
      "# val R2 : 0.302464760019\n",
      "# OOB_score : 0.193512235346\n"
     ]
    }
   ],
   "source": [
    "# 16 cols\n",
    "keep_cols = feature_imp[feature_imp.imp > 0.01].col.values.tolist()\n",
    "x_trn, x_val, y_trn, y_val = train_test_split(X[keep_cols], y, test_size=0.2, random_state=2018)\n",
    "%time model.fit(x_trn, y_trn)\n",
    "evaluate(model, x_trn, y_trn, x_val, y_val, rmsle)"
   ]
  },
  {
   "cell_type": "code",
   "execution_count": null,
   "metadata": {
    "collapsed": true
   },
   "outputs": [],
   "source": []
  },
  {
   "cell_type": "code",
   "execution_count": null,
   "metadata": {
    "collapsed": true
   },
   "outputs": [],
   "source": [
    "# feature interaction between 16"
   ]
  },
  {
   "cell_type": "code",
   "execution_count": 11,
   "metadata": {
    "collapsed": true
   },
   "outputs": [],
   "source": [
    "keep_cols = feature_imp[feature_imp.imp > 0.01].col.values.tolist()\n",
    "df = X[keep_cols].copy()"
   ]
  },
  {
   "cell_type": "code",
   "execution_count": 12,
   "metadata": {
    "collapsed": true
   },
   "outputs": [],
   "source": [
    "import itertools\n",
    "\n",
    "for pair in itertools.combinations(keep_cols, r=2):\n",
    "    df['_add_'.join(pair)] = df[pair[0]] + df[pair[1]]\n",
    "    df['_sub_'.join(pair)] = df[pair[0]] - df[pair[1]]\n",
    "    df['_mul_'.join(pair)] = df[pair[0]] * df[pair[1]]\n",
    "    df['_div_'.join(pair)] = df[pair[0]] / (df[pair[1]] + 1)"
   ]
  },
  {
   "cell_type": "code",
   "execution_count": 13,
   "metadata": {
    "collapsed": true
   },
   "outputs": [],
   "source": [
    "x_trn, x_val, y_trn, y_val = train_test_split(df, y, test_size=0.2, random_state=2018)"
   ]
  },
  {
   "cell_type": "code",
   "execution_count": 17,
   "metadata": {
    "collapsed": true
   },
   "outputs": [],
   "source": [
    "# create dataset for lightgbm\n",
    "import lightgbm as lgb\n",
    "lgb_train = lgb.Dataset(x_trn, np.log1p(y_trn))\n",
    "lgb_eval = lgb.Dataset(x_val, np.log1p(y_val), reference=lgb_train)"
   ]
  },
  {
   "cell_type": "code",
   "execution_count": 18,
   "metadata": {
    "collapsed": true
   },
   "outputs": [],
   "source": [
    "params = {\n",
    "    'task': 'train',\n",
    "    'boosting_type': 'gbdt',\n",
    "    'objective': 'regression',\n",
    "    'metric': {'rmse'},\n",
    "    'num_leaves': 31,\n",
    "    'learning_rate': 0.05,\n",
    "    'feature_fraction': 0.9,\n",
    "    'bagging_fraction': 0.8,\n",
    "    'bagging_freq': 5,\n",
    "    'verbose': 0\n",
    "}"
   ]
  },
  {
   "cell_type": "code",
   "execution_count": 19,
   "metadata": {},
   "outputs": [
    {
     "name": "stdout",
     "output_type": "stream",
     "text": [
      "[1]\tvalid_0's rmse: 1.76257\n",
      "Training until validation scores don't improve for 5 rounds.\n",
      "[2]\tvalid_0's rmse: 1.74066\n",
      "[3]\tvalid_0's rmse: 1.72084\n",
      "[4]\tvalid_0's rmse: 1.70237\n",
      "[5]\tvalid_0's rmse: 1.68633\n",
      "[6]\tvalid_0's rmse: 1.6699\n",
      "[7]\tvalid_0's rmse: 1.65469\n",
      "[8]\tvalid_0's rmse: 1.64087\n",
      "[9]\tvalid_0's rmse: 1.62824\n",
      "[10]\tvalid_0's rmse: 1.61614\n",
      "[11]\tvalid_0's rmse: 1.606\n",
      "[12]\tvalid_0's rmse: 1.59645\n",
      "[13]\tvalid_0's rmse: 1.58799\n",
      "[14]\tvalid_0's rmse: 1.57838\n",
      "[15]\tvalid_0's rmse: 1.57129\n",
      "[16]\tvalid_0's rmse: 1.56406\n",
      "[17]\tvalid_0's rmse: 1.55647\n",
      "[18]\tvalid_0's rmse: 1.55045\n",
      "[19]\tvalid_0's rmse: 1.54451\n",
      "[20]\tvalid_0's rmse: 1.54058\n",
      "Did not meet early stopping. Best iteration is:\n",
      "[20]\tvalid_0's rmse: 1.54058\n"
     ]
    }
   ],
   "source": [
    "gbm = lgb.train(params,\n",
    "                lgb_train,\n",
    "                num_boost_round=20,\n",
    "                valid_sets=lgb_eval,\n",
    "                early_stopping_rounds=5)"
   ]
  },
  {
   "cell_type": "code",
   "execution_count": null,
   "metadata": {
    "collapsed": true
   },
   "outputs": [],
   "source": [
    "x_tst = tst[keep_cols]\n",
    "\n",
    "for pair in itertools.combinations(keep_cols, r=2):\n",
    "    x_tst['_add_'.join(pair)] = x_tst[pair[0]] + x_tst[pair[1]]\n",
    "    x_tst['_sub_'.join(pair)] = x_tst[pair[0]] - x_tst[pair[1]]\n",
    "    x_tst['_mul_'.join(pair)] = x_tst[pair[0]] * x_tst[pair[1]]\n",
    "    x_tst['_div_'.join(pair)] = x_tst[pair[0]] / (x_tst[pair[1]] + 1)"
   ]
  },
  {
   "cell_type": "code",
   "execution_count": 20,
   "metadata": {
    "collapsed": true
   },
   "outputs": [],
   "source": [
    "lgb_tst = gbm.predict(x_tst, num_iteration=gbm.best_iteration)"
   ]
  },
  {
   "cell_type": "code",
   "execution_count": 21,
   "metadata": {
    "collapsed": true
   },
   "outputs": [],
   "source": [
    "tst_subm = pd.DataFrame({'ID': tst.ID, 'target': np.exp(lgb_tst) - 1 })"
   ]
  },
  {
   "cell_type": "code",
   "execution_count": 22,
   "metadata": {
    "collapsed": true
   },
   "outputs": [],
   "source": [
    "fname = 'lgbm.16feat'"
   ]
  },
  {
   "cell_type": "code",
   "execution_count": 23,
   "metadata": {
    "collapsed": true
   },
   "outputs": [],
   "source": [
    "tst_subm.to_csv(fname, index=False)"
   ]
  },
  {
   "cell_type": "code",
   "execution_count": 24,
   "metadata": {
    "collapsed": true
   },
   "outputs": [],
   "source": [
    "submit_kaggle_result(comp_name, fname, msg='lgbm.16feat')"
   ]
  },
  {
   "cell_type": "code",
   "execution_count": 25,
   "metadata": {},
   "outputs": [
    {
     "name": "stdout",
     "output_type": "stream",
     "text": [
      "\n",
      "fileName           date                 description       status    publicScore  privateScore  \n",
      "-----------------  -------------------  ----------------  --------  -----------  ------------  \n",
      "lgbm.16feat        2018-10-18 01:36:49  lgbm.16feat       complete  1.57676      1.53769       (THIS) (BEST) \n",
      "lgbm.16feat        2018-10-18 01:31:50  lgbm.16feat       complete  1.88269      1.87645       (THIS) \n",
      "lgbm.16feat        2018-10-17 10:29:39  lgbm.16feat       complete  1.57676      1.53769       (THIS) (BEST) \n",
      "baseline.20181017  2018-10-17 08:55:50  baseline.rf.noFE  complete  1.93257      1.87086       \n",
      "baseline.20181017  2018-10-17 08:54:39  baseline.rf.noFE  complete  1.93257      1.87086       \n",
      "baseline.20181017  2018-10-17 08:52:46  baseline.rf.noFE  complete  1.93257      1.87086       \n",
      "baseline.20181017  2018-10-17 08:51:11  baseline.rf.noFE  complete  1.93257      1.87086       \n",
      "baseline.20181017  2018-10-17 08:20:24  baseline.rf.noFE  complete  1.94841      1.89284       \n",
      "\n"
     ]
    }
   ],
   "source": [
    "check_kaggle_result(comp_name, fname)"
   ]
  },
  {
   "cell_type": "code",
   "execution_count": null,
   "metadata": {
    "collapsed": true
   },
   "outputs": [],
   "source": []
  }
 ],
 "metadata": {
  "kernelspec": {
   "display_name": "Python 2",
   "language": "python",
   "name": "python2"
  },
  "language_info": {
   "codemirror_mode": {
    "name": "ipython",
    "version": 2
   },
   "file_extension": ".py",
   "mimetype": "text/x-python",
   "name": "python",
   "nbconvert_exporter": "python",
   "pygments_lexer": "ipython2",
   "version": "2.7.5"
  }
 },
 "nbformat": 4,
 "nbformat_minor": 2
}
